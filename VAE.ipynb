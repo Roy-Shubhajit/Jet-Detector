{
 "cells": [
  {
   "cell_type": "code",
   "execution_count": 1,
   "metadata": {},
   "outputs": [],
   "source": [
    "import h5py\n",
    "import numpy as np\n",
    "import matplotlib.pyplot as plt\n",
    "import torch_geometric\n",
    "import networkx as nx\n",
    "from tqdm import tqdm\n",
    "import torch\n",
    "import torch.nn as nn\n",
    "import torch.nn.functional as F\n",
    "import torch.optim as optim\n",
    "from torch.autograd import Variable\n",
    "from torch.utils.data import Dataset, DataLoader\n",
    "from torchvision import transforms, utils\n",
    "from torch.utils.data import TensorDataset"
   ]
  },
  {
   "attachments": {},
   "cell_type": "markdown",
   "metadata": {},
   "source": [
    "**Metrics and Utils**"
   ]
  },
  {
   "cell_type": "code",
   "execution_count": 258,
   "metadata": {},
   "outputs": [],
   "source": [
    "def train_test_split(X, y, test_size):\n",
    "    dataset_size = len(X)\n",
    "    train_data_X = X[:int(dataset_size*(1-test_size))]\n",
    "    test_data_X = X[int(dataset_size*(1-test_size)):]\n",
    "    train_data_y = y[:int(dataset_size*(1-test_size))]\n",
    "    test_data_y = y[int(dataset_size*(1-test_size)):]\n",
    "    return train_data_X, test_data_X, train_data_y, test_data_y\n",
    "    \n",
    "def loss_function(recon_x, x, mu, logvar):\n",
    "    BCE = F.binary_cross_entropy(recon_x, x, reduction='sum')\n",
    "    KLD = -0.5 * torch.sum(1 + logvar - mu.pow(2) - logvar.exp())\n",
    "    return BCE + KLD\n",
    "\n",
    "#custom sigmoid class with output between 0 and 255\n",
    "\n",
    "def tsigmoid(x):\n",
    "    return 255*torch.sigmoid(x/255)\n",
    "\n",
    "class CustomSigmoidFunction(nn.Module):\n",
    "    def __init__(self):\n",
    "        '''\n",
    "        Init method.\n",
    "        '''\n",
    "        super().__init__()\n",
    "\n",
    "    def forward(self, input):\n",
    "        '''\n",
    "        Forward pass of the function.\n",
    "        '''\n",
    "        return tsigmoid(input)"
   ]
  },
  {
   "attachments": {},
   "cell_type": "markdown",
   "metadata": {},
   "source": [
    "**Model**"
   ]
  },
  {
   "cell_type": "code",
   "execution_count": 193,
   "metadata": {},
   "outputs": [],
   "source": [
    "#Model class\n",
    "device = torch.device(\"cuda\" if torch.cuda.is_available() else \"cpu\")\n",
    "class VAE(nn.Module):\n",
    "    def __init__(self, batch_size):\n",
    "        super(VAE, self).__init__()\n",
    "        self.batch_size = batch_size\n",
    "\n",
    "        #encoder\n",
    "        self.conv1 = nn.Conv2d(3, 32, 4, stride=2, padding=1)\n",
    "        self.conv2 = nn.Conv2d(32, 64, 4, stride=2, padding=1)\n",
    "        self.conv3 = nn.Conv2d(64, 128, 4, stride=2, padding=1)\n",
    "        self.conv4 = nn.Conv2d(128, 256, 4, stride=2, padding=1)\n",
    "        self.conv5 = nn.Conv2d(256, 512, 4, stride=2, padding=1)\n",
    "        \n",
    "        self.fc1 = nn.Linear(512*3*3, 1024)\n",
    "        self.fc2 = nn.Linear(1024, 1024)\n",
    "        \n",
    "        self.fc31 = nn.Linear(1024, 512)\n",
    "        self.fc32 = nn.Linear(1024, 512)\n",
    "        \n",
    "        #decoder\n",
    "        self.fc4 = nn.Linear(512, 1024)\n",
    "        self.fc5 = nn.Linear(1024, 1024)\n",
    "        self.fc6 = nn.Linear(1024, 512*3*3)\n",
    "        \n",
    "        self.deconv1 = nn.ConvTranspose2d(512, 256, 4, stride=2, padding=1, output_padding=1)\n",
    "        self.deconv2 = nn.ConvTranspose2d(256, 128, 4, stride=2, padding=1, output_padding=1)\n",
    "        self.deconv3 = nn.ConvTranspose2d(128, 64, 4, stride=2, padding=1, output_padding=1)\n",
    "        self.deconv4 = nn.ConvTranspose2d(64, 32, 4, stride=2, padding=1, output_padding=1)\n",
    "        self.deconv5 = nn.ConvTranspose2d(32, 3, 4, stride=2, padding=1, output_padding=1)\n",
    "        \n",
    "        self.relu = nn.ReLU()\n",
    "        self.sigmoid = CustomSigmoidFunction()\n",
    "        self.sigmoid_1 = nn.Sigmoid()\n",
    "        \n",
    "    def encode(self, x):\n",
    "        h1 = self.relu(self.conv1(x))\n",
    "        #print(\"h1: :\", h1.shape)\n",
    "        h2 = self.relu(self.conv2(h1))\n",
    "        #print(\"h2: :\", h2.shape)\n",
    "        h3 = self.relu(self.conv3(h2))\n",
    "        #print(\"h3: :\", h3.shape)\n",
    "        h4 = self.relu(self.conv4(h3))\n",
    "        #print(\"h4: :\", h4.shape)\n",
    "        h5 = self.relu(self.conv5(h4))\n",
    "        #print(\"h5: :\", h5.shape)\n",
    "        h5 = h5.view(self.batch_size, 512*3*3)\n",
    "        #print(\"h5: :\", h5.shape)\n",
    "        return self.relu(self.fc1(h5)), self.relu(self.fc1(h5))\n",
    "    \n",
    "    def reparameterize(self, mu, logvar):\n",
    "        std = torch.exp(0.5*logvar)\n",
    "        eps = torch.randn_like(std)\n",
    "        return mu + eps*std\n",
    "    \n",
    "    def decode(self, z):\n",
    "        h1 = self.relu(self.fc6(z))\n",
    "        #print(\"h1: :\", h1.shape)\n",
    "        h1 = h1.view(self.batch_size, 512, 3, 3)\n",
    "        #print(\"h1: :\", h1.shape)\n",
    "        h2 = self.relu(self.deconv1(h1, output_size=torch.Size([self.batch_size,256,7,7])))\n",
    "        #print(\"h2: :\", h2.shape)\n",
    "        h3 = self.relu(self.deconv2(h2))\n",
    "        #print(\"h3: :\", h3.shape)\n",
    "        h4 = self.relu(self.deconv3(h3))\n",
    "        #print(\"h4: :\", h4.shape)\n",
    "        h5 = self.relu(self.deconv4(h4, output_size=torch.Size([self.batch_size,self.batch_size,62,62])))\n",
    "        #print(\"h5: :\", h5.shape)\n",
    "        h6 = self.deconv5(h5, output_size=torch.Size([self.batch_size,3,125,125]))\n",
    "        #print(\"h6: :\", h6.shape)\n",
    "        #print(self.sigmoid(h6).shape)\n",
    "        return_D = self.sigmoid_1(h6)\n",
    "        return return_D\n",
    "    \n",
    "    def forward(self, x):\n",
    "        mu, logvar = self.encode(x.view(-1, 3, 125, 125))\n",
    "        # mu, logvar = self.encode(x.view(-1, 125, 125, 3))\n",
    "        z = self.reparameterize(mu, logvar)\n",
    "        return self.decode(z).view(-1, 125, 125, 3), mu, logvar"
   ]
  },
  {
   "attachments": {},
   "cell_type": "markdown",
   "metadata": {},
   "source": [
    "**Load Data**"
   ]
  },
  {
   "cell_type": "code",
   "execution_count": 4,
   "metadata": {},
   "outputs": [],
   "source": [
    "#read hdf5 file\n",
    "f = h5py.File('/hdfs1/Data/Shrutimoy/quark-gluon_data-set_n139306.hdf5', 'r')\n"
   ]
  },
  {
   "cell_type": "code",
   "execution_count": 5,
   "metadata": {},
   "outputs": [],
   "source": [
    "X_jets = np.asarray(f['X_jets'])\n",
    "m0 = np.asarray(f['m0'])\n",
    "pt = np.asarray(f['pt'])\n",
    "y = np.asarray(f['y'])"
   ]
  },
  {
   "cell_type": "code",
   "execution_count": 146,
   "metadata": {},
   "outputs": [],
   "source": [
    "#split X_jets and y into training, validation and test sets\n",
    "device = torch.device(\"cuda\" if torch.cuda.is_available() else \"cpu\")\n",
    "data_train_X, data_test_X, data_train_y, data_test_y = train_test_split(X_jets, y, test_size=0.1)\n",
    "data_train_X, data_val_X, data_train_y, data_val_y = train_test_split(data_train_X, data_train_y, test_size=0.2)\n",
    "\n",
    "#initialize the dataloaders with batches of 32\n",
    "train_dataset = TensorDataset(torch.from_numpy(data_train_X).float(), torch.from_numpy(data_train_y).float())\n",
    "train_dataloader = DataLoader(train_dataset, batch_size=32, shuffle=True, drop_last=True)\n",
    "val_dataset = TensorDataset(torch.from_numpy(data_val_X).float(), torch.from_numpy(data_val_y).float())\n",
    "val_dataloader = DataLoader(val_dataset, batch_size=32, shuffle=False, drop_last=True)\n",
    "test_dataset = TensorDataset(torch.from_numpy(data_test_X).float(), torch.from_numpy(data_test_y).float())\n",
    "test_dataloader = DataLoader(test_dataset, batch_size=32, shuffle=False, drop_last=True)"
   ]
  },
  {
   "attachments": {},
   "cell_type": "markdown",
   "metadata": {},
   "source": [
    "**Model Initialization**"
   ]
  },
  {
   "cell_type": "code",
   "execution_count": 53,
   "metadata": {},
   "outputs": [],
   "source": [
    "device = torch.device(\"cuda\" if torch.cuda.is_available() else \"cpu\")"
   ]
  },
  {
   "cell_type": "code",
   "execution_count": 294,
   "metadata": {},
   "outputs": [],
   "source": [
    "#VAE model\n",
    "model = VAE(batch_size=32).to(device)\n",
    "optimizer = optim.Adam(model.parameters(), lr=3e-4)\n",
    "#scheduler = optim.lr_scheduler.StepLR(optimizer, step_size=10, gamma=0.5)"
   ]
  },
  {
   "cell_type": "code",
   "execution_count": 295,
   "metadata": {},
   "outputs": [
    {
     "name": "stderr",
     "output_type": "stream",
     "text": [
      "100%|██████████| 3134/3134 [01:04<00:00, 48.36it/s]\n",
      "100%|██████████| 783/783 [00:10<00:00, 76.97it/s]\n",
      "100%|██████████| 435/435 [00:05<00:00, 76.84it/s]\n"
     ]
    },
    {
     "name": "stdout",
     "output_type": "stream",
     "text": [
      "====> Epoch: 1 Train loss: 1716.4252\n",
      "====> Epoch: 1 Validation loss: 1554.2302\n",
      "====> Epoch: 1 Test loss: 1559.3026\n"
     ]
    },
    {
     "name": "stderr",
     "output_type": "stream",
     "text": [
      "100%|██████████| 3134/3134 [01:03<00:00, 49.35it/s]\n",
      "100%|██████████| 783/783 [00:10<00:00, 76.93it/s]\n",
      "100%|██████████| 435/435 [00:05<00:00, 77.62it/s]\n"
     ]
    },
    {
     "name": "stdout",
     "output_type": "stream",
     "text": [
      "====> Epoch: 2 Train loss: 1453.1559\n",
      "====> Epoch: 2 Validation loss: 1530.2448\n",
      "====> Epoch: 2 Test loss: 1534.5593\n"
     ]
    },
    {
     "name": "stderr",
     "output_type": "stream",
     "text": [
      "100%|██████████| 3134/3134 [01:03<00:00, 49.61it/s]\n",
      "100%|██████████| 783/783 [00:10<00:00, 77.94it/s]\n",
      "100%|██████████| 435/435 [00:05<00:00, 78.01it/s]\n"
     ]
    },
    {
     "name": "stdout",
     "output_type": "stream",
     "text": [
      "====> Epoch: 3 Train loss: 1435.2248\n",
      "====> Epoch: 3 Validation loss: 1516.6960\n",
      "====> Epoch: 3 Test loss: 1521.8384\n"
     ]
    },
    {
     "name": "stderr",
     "output_type": "stream",
     "text": [
      "100%|██████████| 3134/3134 [01:03<00:00, 49.60it/s]\n",
      "100%|██████████| 783/783 [00:10<00:00, 77.93it/s]\n",
      "100%|██████████| 435/435 [00:05<00:00, 77.31it/s]\n"
     ]
    },
    {
     "name": "stdout",
     "output_type": "stream",
     "text": [
      "====> Epoch: 4 Train loss: 1425.8266\n",
      "====> Epoch: 4 Validation loss: 1508.7455\n",
      "====> Epoch: 4 Test loss: 1513.0163\n"
     ]
    },
    {
     "name": "stderr",
     "output_type": "stream",
     "text": [
      "100%|██████████| 3134/3134 [01:03<00:00, 49.71it/s]\n",
      "100%|██████████| 783/783 [00:10<00:00, 76.97it/s]\n",
      "100%|██████████| 435/435 [00:05<00:00, 77.61it/s]\n"
     ]
    },
    {
     "name": "stdout",
     "output_type": "stream",
     "text": [
      "====> Epoch: 5 Train loss: 1419.8365\n",
      "====> Epoch: 5 Validation loss: 1504.4980\n",
      "====> Epoch: 5 Test loss: 1508.9161\n"
     ]
    },
    {
     "name": "stderr",
     "output_type": "stream",
     "text": [
      "100%|██████████| 3134/3134 [01:03<00:00, 49.74it/s]\n",
      "100%|██████████| 783/783 [00:10<00:00, 77.60it/s]\n",
      "100%|██████████| 435/435 [00:05<00:00, 77.78it/s]\n"
     ]
    },
    {
     "name": "stdout",
     "output_type": "stream",
     "text": [
      "====> Epoch: 6 Train loss: 1413.9160\n",
      "====> Epoch: 6 Validation loss: 1498.9426\n",
      "====> Epoch: 6 Test loss: 1503.2447\n"
     ]
    },
    {
     "name": "stderr",
     "output_type": "stream",
     "text": [
      "100%|██████████| 3134/3134 [01:02<00:00, 49.91it/s]\n",
      "100%|██████████| 783/783 [00:10<00:00, 77.56it/s]\n",
      "100%|██████████| 435/435 [00:05<00:00, 77.97it/s]\n"
     ]
    },
    {
     "name": "stdout",
     "output_type": "stream",
     "text": [
      "====> Epoch: 7 Train loss: 1410.4385\n",
      "====> Epoch: 7 Validation loss: 1495.6653\n",
      "====> Epoch: 7 Test loss: 1499.7778\n"
     ]
    },
    {
     "name": "stderr",
     "output_type": "stream",
     "text": [
      "100%|██████████| 3134/3134 [01:02<00:00, 49.86it/s]\n",
      "100%|██████████| 783/783 [00:10<00:00, 77.70it/s]\n",
      "100%|██████████| 435/435 [00:05<00:00, 77.63it/s]\n"
     ]
    },
    {
     "name": "stdout",
     "output_type": "stream",
     "text": [
      "====> Epoch: 8 Train loss: 1406.6578\n",
      "====> Epoch: 8 Validation loss: 1495.0925\n",
      "====> Epoch: 8 Test loss: 1499.7555\n"
     ]
    },
    {
     "name": "stderr",
     "output_type": "stream",
     "text": [
      "100%|██████████| 3134/3134 [01:03<00:00, 49.73it/s]\n",
      "100%|██████████| 783/783 [00:10<00:00, 77.22it/s]\n",
      "100%|██████████| 435/435 [00:05<00:00, 77.60it/s]\n"
     ]
    },
    {
     "name": "stdout",
     "output_type": "stream",
     "text": [
      "====> Epoch: 9 Train loss: 1405.0521\n",
      "====> Epoch: 9 Validation loss: 1491.6733\n",
      "====> Epoch: 9 Test loss: 1496.0200\n"
     ]
    },
    {
     "name": "stderr",
     "output_type": "stream",
     "text": [
      "100%|██████████| 3134/3134 [01:04<00:00, 48.85it/s]\n",
      "100%|██████████| 783/783 [00:10<00:00, 76.45it/s]\n",
      "100%|██████████| 435/435 [00:05<00:00, 76.35it/s]\n"
     ]
    },
    {
     "name": "stdout",
     "output_type": "stream",
     "text": [
      "====> Epoch: 10 Train loss: 1402.2807\n",
      "====> Epoch: 10 Validation loss: 1488.3436\n",
      "====> Epoch: 10 Test loss: 1493.0308\n"
     ]
    },
    {
     "name": "stderr",
     "output_type": "stream",
     "text": [
      "100%|██████████| 3134/3134 [01:03<00:00, 49.04it/s]\n",
      "100%|██████████| 783/783 [00:10<00:00, 76.72it/s]\n",
      "100%|██████████| 435/435 [00:05<00:00, 76.55it/s]\n"
     ]
    },
    {
     "name": "stdout",
     "output_type": "stream",
     "text": [
      "====> Epoch: 11 Train loss: 1399.8976\n",
      "====> Epoch: 11 Validation loss: 1485.9574\n",
      "====> Epoch: 11 Test loss: 1489.9689\n"
     ]
    },
    {
     "name": "stderr",
     "output_type": "stream",
     "text": [
      "100%|██████████| 3134/3134 [01:03<00:00, 49.18it/s]\n",
      "100%|██████████| 783/783 [00:10<00:00, 76.49it/s]\n",
      "100%|██████████| 435/435 [00:05<00:00, 76.94it/s]\n"
     ]
    },
    {
     "name": "stdout",
     "output_type": "stream",
     "text": [
      "====> Epoch: 12 Train loss: 1397.2348\n",
      "====> Epoch: 12 Validation loss: 1484.3140\n",
      "====> Epoch: 12 Test loss: 1488.1799\n"
     ]
    },
    {
     "name": "stderr",
     "output_type": "stream",
     "text": [
      "100%|██████████| 3134/3134 [01:03<00:00, 49.14it/s]\n",
      "100%|██████████| 783/783 [00:10<00:00, 76.50it/s]\n",
      "100%|██████████| 435/435 [00:05<00:00, 76.24it/s]\n"
     ]
    },
    {
     "name": "stdout",
     "output_type": "stream",
     "text": [
      "====> Epoch: 13 Train loss: 1395.6174\n",
      "====> Epoch: 13 Validation loss: 1482.3384\n",
      "====> Epoch: 13 Test loss: 1486.7077\n"
     ]
    },
    {
     "name": "stderr",
     "output_type": "stream",
     "text": [
      "100%|██████████| 3134/3134 [01:03<00:00, 49.10it/s]\n",
      "100%|██████████| 783/783 [00:10<00:00, 76.54it/s]\n",
      "100%|██████████| 435/435 [00:05<00:00, 76.96it/s]\n"
     ]
    },
    {
     "name": "stdout",
     "output_type": "stream",
     "text": [
      "====> Epoch: 14 Train loss: 1394.1302\n",
      "====> Epoch: 14 Validation loss: 1480.0383\n",
      "====> Epoch: 14 Test loss: 1484.5849\n"
     ]
    },
    {
     "name": "stderr",
     "output_type": "stream",
     "text": [
      "100%|██████████| 3134/3134 [01:03<00:00, 49.01it/s]\n",
      "100%|██████████| 783/783 [00:10<00:00, 76.16it/s]\n",
      "100%|██████████| 435/435 [00:05<00:00, 76.21it/s]\n"
     ]
    },
    {
     "name": "stdout",
     "output_type": "stream",
     "text": [
      "====> Epoch: 15 Train loss: 1392.2521\n",
      "====> Epoch: 15 Validation loss: 1478.5170\n",
      "====> Epoch: 15 Test loss: 1483.0521\n"
     ]
    },
    {
     "name": "stderr",
     "output_type": "stream",
     "text": [
      "100%|██████████| 3134/3134 [01:04<00:00, 48.96it/s]\n",
      "100%|██████████| 783/783 [00:10<00:00, 75.52it/s]\n",
      "100%|██████████| 435/435 [00:05<00:00, 76.89it/s]\n"
     ]
    },
    {
     "name": "stdout",
     "output_type": "stream",
     "text": [
      "====> Epoch: 16 Train loss: 1390.2279\n",
      "====> Epoch: 16 Validation loss: 1477.3237\n",
      "====> Epoch: 16 Test loss: 1481.7731\n"
     ]
    },
    {
     "name": "stderr",
     "output_type": "stream",
     "text": [
      "100%|██████████| 3134/3134 [01:03<00:00, 49.05it/s]\n",
      "100%|██████████| 783/783 [00:10<00:00, 76.56it/s]\n",
      "100%|██████████| 435/435 [00:05<00:00, 76.78it/s]\n"
     ]
    },
    {
     "name": "stdout",
     "output_type": "stream",
     "text": [
      "====> Epoch: 17 Train loss: 1388.0396\n",
      "====> Epoch: 17 Validation loss: 1475.9679\n",
      "====> Epoch: 17 Test loss: 1480.7903\n"
     ]
    },
    {
     "name": "stderr",
     "output_type": "stream",
     "text": [
      "100%|██████████| 3134/3134 [01:03<00:00, 49.42it/s]\n",
      "100%|██████████| 783/783 [00:10<00:00, 77.25it/s]\n",
      "100%|██████████| 435/435 [00:05<00:00, 77.26it/s]\n"
     ]
    },
    {
     "name": "stdout",
     "output_type": "stream",
     "text": [
      "====> Epoch: 18 Train loss: 1386.4016\n",
      "====> Epoch: 18 Validation loss: 1473.1711\n",
      "====> Epoch: 18 Test loss: 1477.3196\n"
     ]
    },
    {
     "name": "stderr",
     "output_type": "stream",
     "text": [
      "100%|██████████| 3134/3134 [01:03<00:00, 49.54it/s]\n",
      "100%|██████████| 783/783 [00:10<00:00, 77.45it/s]\n",
      "100%|██████████| 435/435 [00:05<00:00, 77.63it/s]\n"
     ]
    },
    {
     "name": "stdout",
     "output_type": "stream",
     "text": [
      "====> Epoch: 19 Train loss: 1384.5384\n",
      "====> Epoch: 19 Validation loss: 1471.7941\n",
      "====> Epoch: 19 Test loss: 1476.6921\n"
     ]
    },
    {
     "name": "stderr",
     "output_type": "stream",
     "text": [
      "100%|██████████| 3134/3134 [01:03<00:00, 49.47it/s]\n",
      "100%|██████████| 783/783 [00:10<00:00, 77.00it/s]\n",
      "100%|██████████| 435/435 [00:05<00:00, 75.57it/s]\n"
     ]
    },
    {
     "name": "stdout",
     "output_type": "stream",
     "text": [
      "====> Epoch: 20 Train loss: 1382.9543\n",
      "====> Epoch: 20 Validation loss: 1472.1702\n",
      "====> Epoch: 20 Test loss: 1476.1946\n"
     ]
    },
    {
     "name": "stderr",
     "output_type": "stream",
     "text": [
      "100%|██████████| 3134/3134 [01:03<00:00, 49.26it/s]\n",
      "100%|██████████| 783/783 [00:10<00:00, 77.45it/s]\n",
      "100%|██████████| 435/435 [00:05<00:00, 77.56it/s]\n"
     ]
    },
    {
     "name": "stdout",
     "output_type": "stream",
     "text": [
      "====> Epoch: 21 Train loss: 1382.2715\n",
      "====> Epoch: 21 Validation loss: 1469.7479\n",
      "====> Epoch: 21 Test loss: 1473.3620\n"
     ]
    },
    {
     "name": "stderr",
     "output_type": "stream",
     "text": [
      "100%|██████████| 3134/3134 [01:03<00:00, 49.59it/s]\n",
      "100%|██████████| 783/783 [00:10<00:00, 77.30it/s]\n",
      "100%|██████████| 435/435 [00:05<00:00, 76.98it/s]\n"
     ]
    },
    {
     "name": "stdout",
     "output_type": "stream",
     "text": [
      "====> Epoch: 22 Train loss: 1380.2496\n",
      "====> Epoch: 22 Validation loss: 1469.2581\n",
      "====> Epoch: 22 Test loss: 1473.6915\n"
     ]
    },
    {
     "name": "stderr",
     "output_type": "stream",
     "text": [
      "100%|██████████| 3134/3134 [01:03<00:00, 49.48it/s]\n",
      "100%|██████████| 783/783 [00:10<00:00, 77.69it/s]\n",
      "100%|██████████| 435/435 [00:05<00:00, 77.48it/s]\n"
     ]
    },
    {
     "name": "stdout",
     "output_type": "stream",
     "text": [
      "====> Epoch: 23 Train loss: 1378.4976\n",
      "====> Epoch: 23 Validation loss: 1470.0304\n",
      "====> Epoch: 23 Test loss: 1474.5871\n"
     ]
    },
    {
     "name": "stderr",
     "output_type": "stream",
     "text": [
      "100%|██████████| 3134/3134 [01:03<00:00, 49.54it/s]\n",
      "100%|██████████| 783/783 [00:10<00:00, 77.05it/s]\n",
      "100%|██████████| 435/435 [00:05<00:00, 77.34it/s]\n"
     ]
    },
    {
     "name": "stdout",
     "output_type": "stream",
     "text": [
      "====> Epoch: 24 Train loss: 1377.2586\n",
      "====> Epoch: 24 Validation loss: 1465.7707\n",
      "====> Epoch: 24 Test loss: 1470.6101\n"
     ]
    },
    {
     "name": "stderr",
     "output_type": "stream",
     "text": [
      "100%|██████████| 3134/3134 [01:03<00:00, 49.38it/s]\n",
      "100%|██████████| 783/783 [00:10<00:00, 77.35it/s]\n",
      "100%|██████████| 435/435 [00:05<00:00, 77.35it/s]\n"
     ]
    },
    {
     "name": "stdout",
     "output_type": "stream",
     "text": [
      "====> Epoch: 25 Train loss: 1376.1271\n",
      "====> Epoch: 25 Validation loss: 1463.4562\n",
      "====> Epoch: 25 Test loss: 1467.6185\n"
     ]
    },
    {
     "name": "stderr",
     "output_type": "stream",
     "text": [
      "100%|██████████| 3134/3134 [01:03<00:00, 49.56it/s]\n",
      "100%|██████████| 783/783 [00:10<00:00, 77.32it/s]\n",
      "100%|██████████| 435/435 [00:05<00:00, 77.38it/s]\n"
     ]
    },
    {
     "name": "stdout",
     "output_type": "stream",
     "text": [
      "====> Epoch: 26 Train loss: 1374.9355\n",
      "====> Epoch: 26 Validation loss: 1463.0983\n",
      "====> Epoch: 26 Test loss: 1466.8148\n"
     ]
    },
    {
     "name": "stderr",
     "output_type": "stream",
     "text": [
      "100%|██████████| 3134/3134 [01:03<00:00, 49.67it/s]\n",
      "100%|██████████| 783/783 [00:10<00:00, 77.18it/s]\n",
      "100%|██████████| 435/435 [00:05<00:00, 77.87it/s]\n"
     ]
    },
    {
     "name": "stdout",
     "output_type": "stream",
     "text": [
      "====> Epoch: 27 Train loss: 1372.7830\n",
      "====> Epoch: 27 Validation loss: 1461.3529\n",
      "====> Epoch: 27 Test loss: 1466.2041\n"
     ]
    },
    {
     "name": "stderr",
     "output_type": "stream",
     "text": [
      "100%|██████████| 3134/3134 [01:03<00:00, 49.69it/s]\n",
      "100%|██████████| 783/783 [00:10<00:00, 77.75it/s]\n",
      "100%|██████████| 435/435 [00:05<00:00, 77.70it/s]\n"
     ]
    },
    {
     "name": "stdout",
     "output_type": "stream",
     "text": [
      "====> Epoch: 28 Train loss: 1372.3321\n",
      "====> Epoch: 28 Validation loss: 1460.7309\n",
      "====> Epoch: 28 Test loss: 1465.3235\n"
     ]
    },
    {
     "name": "stderr",
     "output_type": "stream",
     "text": [
      "100%|██████████| 3134/3134 [01:03<00:00, 49.48it/s]\n",
      "100%|██████████| 783/783 [00:10<00:00, 77.41it/s]\n",
      "100%|██████████| 435/435 [00:05<00:00, 77.41it/s]\n"
     ]
    },
    {
     "name": "stdout",
     "output_type": "stream",
     "text": [
      "====> Epoch: 29 Train loss: 1370.6236\n",
      "====> Epoch: 29 Validation loss: 1460.3723\n",
      "====> Epoch: 29 Test loss: 1465.0348\n"
     ]
    },
    {
     "name": "stderr",
     "output_type": "stream",
     "text": [
      "100%|██████████| 3134/3134 [01:03<00:00, 49.52it/s]\n",
      "100%|██████████| 783/783 [00:10<00:00, 77.49it/s]\n",
      "100%|██████████| 435/435 [00:05<00:00, 77.54it/s]\n"
     ]
    },
    {
     "name": "stdout",
     "output_type": "stream",
     "text": [
      "====> Epoch: 30 Train loss: 1369.5827\n",
      "====> Epoch: 30 Validation loss: 1458.7101\n",
      "====> Epoch: 30 Test loss: 1463.0314\n"
     ]
    },
    {
     "name": "stderr",
     "output_type": "stream",
     "text": [
      "100%|██████████| 3134/3134 [01:03<00:00, 49.35it/s]\n",
      "100%|██████████| 783/783 [00:10<00:00, 77.05it/s]\n",
      "100%|██████████| 435/435 [00:05<00:00, 77.04it/s]\n"
     ]
    },
    {
     "name": "stdout",
     "output_type": "stream",
     "text": [
      "====> Epoch: 31 Train loss: 1368.8847\n",
      "====> Epoch: 31 Validation loss: 1460.0011\n",
      "====> Epoch: 31 Test loss: 1464.5175\n"
     ]
    },
    {
     "name": "stderr",
     "output_type": "stream",
     "text": [
      "100%|██████████| 3134/3134 [01:03<00:00, 49.23it/s]\n",
      "100%|██████████| 783/783 [00:10<00:00, 76.92it/s]\n",
      "100%|██████████| 435/435 [00:05<00:00, 76.69it/s]\n"
     ]
    },
    {
     "name": "stdout",
     "output_type": "stream",
     "text": [
      "====> Epoch: 32 Train loss: 1367.9318\n",
      "====> Epoch: 32 Validation loss: 1457.0660\n",
      "====> Epoch: 32 Test loss: 1460.9398\n"
     ]
    },
    {
     "name": "stderr",
     "output_type": "stream",
     "text": [
      "100%|██████████| 3134/3134 [01:03<00:00, 49.40it/s]\n",
      "100%|██████████| 783/783 [00:10<00:00, 77.12it/s]\n",
      "100%|██████████| 435/435 [00:05<00:00, 76.79it/s]\n"
     ]
    },
    {
     "name": "stdout",
     "output_type": "stream",
     "text": [
      "====> Epoch: 33 Train loss: 1366.6004\n",
      "====> Epoch: 33 Validation loss: 1455.1418\n",
      "====> Epoch: 33 Test loss: 1459.1878\n"
     ]
    },
    {
     "name": "stderr",
     "output_type": "stream",
     "text": [
      "100%|██████████| 3134/3134 [01:03<00:00, 49.24it/s]\n",
      "100%|██████████| 783/783 [00:10<00:00, 77.13it/s]\n",
      "100%|██████████| 435/435 [00:05<00:00, 76.95it/s]\n"
     ]
    },
    {
     "name": "stdout",
     "output_type": "stream",
     "text": [
      "====> Epoch: 34 Train loss: 1365.6211\n",
      "====> Epoch: 34 Validation loss: 1454.6951\n",
      "====> Epoch: 34 Test loss: 1460.2641\n"
     ]
    },
    {
     "name": "stderr",
     "output_type": "stream",
     "text": [
      "100%|██████████| 3134/3134 [01:03<00:00, 49.38it/s]\n",
      "100%|██████████| 783/783 [00:10<00:00, 76.86it/s]\n",
      "100%|██████████| 435/435 [00:05<00:00, 77.00it/s]\n"
     ]
    },
    {
     "name": "stdout",
     "output_type": "stream",
     "text": [
      "====> Epoch: 35 Train loss: 1365.6321\n",
      "====> Epoch: 35 Validation loss: 1454.3520\n",
      "====> Epoch: 35 Test loss: 1459.0950\n"
     ]
    },
    {
     "name": "stderr",
     "output_type": "stream",
     "text": [
      "100%|██████████| 3134/3134 [01:03<00:00, 49.10it/s]\n",
      "100%|██████████| 783/783 [00:10<00:00, 76.98it/s]\n",
      "100%|██████████| 435/435 [00:05<00:00, 77.03it/s]\n"
     ]
    },
    {
     "name": "stdout",
     "output_type": "stream",
     "text": [
      "====> Epoch: 36 Train loss: 1363.6637\n",
      "====> Epoch: 36 Validation loss: 1453.7879\n",
      "====> Epoch: 36 Test loss: 1458.1016\n"
     ]
    },
    {
     "name": "stderr",
     "output_type": "stream",
     "text": [
      "100%|██████████| 3134/3134 [01:03<00:00, 49.24it/s]\n",
      "100%|██████████| 783/783 [00:10<00:00, 76.87it/s]\n",
      "100%|██████████| 435/435 [00:05<00:00, 77.12it/s]\n"
     ]
    },
    {
     "name": "stdout",
     "output_type": "stream",
     "text": [
      "====> Epoch: 37 Train loss: 1364.1390\n",
      "====> Epoch: 37 Validation loss: 1452.6429\n",
      "====> Epoch: 37 Test loss: 1456.9269\n"
     ]
    },
    {
     "name": "stderr",
     "output_type": "stream",
     "text": [
      "100%|██████████| 3134/3134 [01:03<00:00, 49.23it/s]\n",
      "100%|██████████| 783/783 [00:10<00:00, 76.83it/s]\n",
      "100%|██████████| 435/435 [00:05<00:00, 77.04it/s]\n"
     ]
    },
    {
     "name": "stdout",
     "output_type": "stream",
     "text": [
      "====> Epoch: 38 Train loss: 1363.3746\n",
      "====> Epoch: 38 Validation loss: 1451.8705\n",
      "====> Epoch: 38 Test loss: 1456.9749\n"
     ]
    },
    {
     "name": "stderr",
     "output_type": "stream",
     "text": [
      "100%|██████████| 3134/3134 [01:03<00:00, 49.25it/s]\n",
      "100%|██████████| 783/783 [00:10<00:00, 75.86it/s]\n",
      "100%|██████████| 435/435 [00:05<00:00, 76.30it/s]\n"
     ]
    },
    {
     "name": "stdout",
     "output_type": "stream",
     "text": [
      "====> Epoch: 39 Train loss: 1362.3661\n",
      "====> Epoch: 39 Validation loss: 1451.4991\n",
      "====> Epoch: 39 Test loss: 1455.8981\n"
     ]
    },
    {
     "name": "stderr",
     "output_type": "stream",
     "text": [
      "100%|██████████| 3134/3134 [01:03<00:00, 49.28it/s]\n",
      "100%|██████████| 783/783 [00:10<00:00, 76.94it/s]\n",
      "100%|██████████| 435/435 [00:05<00:00, 77.12it/s]\n"
     ]
    },
    {
     "name": "stdout",
     "output_type": "stream",
     "text": [
      "====> Epoch: 40 Train loss: 1361.5509\n",
      "====> Epoch: 40 Validation loss: 1450.0962\n",
      "====> Epoch: 40 Test loss: 1454.8481\n"
     ]
    },
    {
     "name": "stderr",
     "output_type": "stream",
     "text": [
      "100%|██████████| 3134/3134 [01:03<00:00, 49.18it/s]\n",
      "100%|██████████| 783/783 [00:10<00:00, 76.47it/s]\n",
      "100%|██████████| 435/435 [00:05<00:00, 76.72it/s]\n"
     ]
    },
    {
     "name": "stdout",
     "output_type": "stream",
     "text": [
      "====> Epoch: 41 Train loss: 1360.7083\n",
      "====> Epoch: 41 Validation loss: 1449.1832\n",
      "====> Epoch: 41 Test loss: 1453.3672\n"
     ]
    },
    {
     "name": "stderr",
     "output_type": "stream",
     "text": [
      "100%|██████████| 3134/3134 [01:03<00:00, 48.99it/s]\n",
      "100%|██████████| 783/783 [00:10<00:00, 76.77it/s]\n",
      "100%|██████████| 435/435 [00:05<00:00, 76.97it/s]\n"
     ]
    },
    {
     "name": "stdout",
     "output_type": "stream",
     "text": [
      "====> Epoch: 42 Train loss: 1360.5588\n",
      "====> Epoch: 42 Validation loss: 1449.7689\n",
      "====> Epoch: 42 Test loss: 1454.3947\n"
     ]
    },
    {
     "name": "stderr",
     "output_type": "stream",
     "text": [
      "100%|██████████| 3134/3134 [01:03<00:00, 49.28it/s]\n",
      "100%|██████████| 783/783 [00:10<00:00, 76.80it/s]\n",
      "100%|██████████| 435/435 [00:05<00:00, 76.91it/s]\n"
     ]
    },
    {
     "name": "stdout",
     "output_type": "stream",
     "text": [
      "====> Epoch: 43 Train loss: 1359.2971\n",
      "====> Epoch: 43 Validation loss: 1448.7203\n",
      "====> Epoch: 43 Test loss: 1453.4641\n"
     ]
    },
    {
     "name": "stderr",
     "output_type": "stream",
     "text": [
      "100%|██████████| 3134/3134 [01:03<00:00, 49.27it/s]\n",
      "100%|██████████| 783/783 [00:10<00:00, 76.91it/s]\n",
      "100%|██████████| 435/435 [00:05<00:00, 77.02it/s]\n"
     ]
    },
    {
     "name": "stdout",
     "output_type": "stream",
     "text": [
      "====> Epoch: 44 Train loss: 1358.5766\n",
      "====> Epoch: 44 Validation loss: 1448.2421\n",
      "====> Epoch: 44 Test loss: 1452.6208\n"
     ]
    },
    {
     "name": "stderr",
     "output_type": "stream",
     "text": [
      "100%|██████████| 3134/3134 [01:03<00:00, 49.23it/s]\n",
      "100%|██████████| 783/783 [00:10<00:00, 76.79it/s]\n",
      "100%|██████████| 435/435 [00:05<00:00, 76.86it/s]\n"
     ]
    },
    {
     "name": "stdout",
     "output_type": "stream",
     "text": [
      "====> Epoch: 45 Train loss: 1358.2721\n",
      "====> Epoch: 45 Validation loss: 1450.7446\n",
      "====> Epoch: 45 Test loss: 1455.1284\n"
     ]
    },
    {
     "name": "stderr",
     "output_type": "stream",
     "text": [
      "100%|██████████| 3134/3134 [01:03<00:00, 49.11it/s]\n",
      "100%|██████████| 783/783 [00:10<00:00, 76.88it/s]\n",
      "100%|██████████| 435/435 [00:05<00:00, 76.73it/s]\n"
     ]
    },
    {
     "name": "stdout",
     "output_type": "stream",
     "text": [
      "====> Epoch: 46 Train loss: 1358.0107\n",
      "====> Epoch: 46 Validation loss: 1447.8124\n",
      "====> Epoch: 46 Test loss: 1452.2821\n"
     ]
    },
    {
     "name": "stderr",
     "output_type": "stream",
     "text": [
      "100%|██████████| 3134/3134 [01:03<00:00, 49.08it/s]\n",
      "100%|██████████| 783/783 [00:10<00:00, 75.20it/s]\n",
      "100%|██████████| 435/435 [00:05<00:00, 76.97it/s]\n"
     ]
    },
    {
     "name": "stdout",
     "output_type": "stream",
     "text": [
      "====> Epoch: 47 Train loss: 1357.2841\n",
      "====> Epoch: 47 Validation loss: 1446.6787\n",
      "====> Epoch: 47 Test loss: 1450.9517\n"
     ]
    },
    {
     "name": "stderr",
     "output_type": "stream",
     "text": [
      "100%|██████████| 3134/3134 [01:03<00:00, 49.22it/s]\n",
      "100%|██████████| 783/783 [00:10<00:00, 77.16it/s]\n",
      "100%|██████████| 435/435 [00:05<00:00, 77.26it/s]\n"
     ]
    },
    {
     "name": "stdout",
     "output_type": "stream",
     "text": [
      "====> Epoch: 48 Train loss: 1357.5866\n",
      "====> Epoch: 48 Validation loss: 1446.6096\n",
      "====> Epoch: 48 Test loss: 1450.6895\n"
     ]
    },
    {
     "name": "stderr",
     "output_type": "stream",
     "text": [
      "100%|██████████| 3134/3134 [01:03<00:00, 49.20it/s]\n",
      "100%|██████████| 783/783 [00:10<00:00, 76.67it/s]\n",
      "100%|██████████| 435/435 [00:05<00:00, 76.47it/s]\n"
     ]
    },
    {
     "name": "stdout",
     "output_type": "stream",
     "text": [
      "====> Epoch: 49 Train loss: 1356.3074\n",
      "====> Epoch: 49 Validation loss: 1445.6700\n",
      "====> Epoch: 49 Test loss: 1450.2881\n"
     ]
    },
    {
     "name": "stderr",
     "output_type": "stream",
     "text": [
      "100%|██████████| 3134/3134 [01:03<00:00, 49.18it/s]\n",
      "100%|██████████| 783/783 [00:10<00:00, 77.01it/s]\n",
      "100%|██████████| 435/435 [00:05<00:00, 76.85it/s]\n"
     ]
    },
    {
     "name": "stdout",
     "output_type": "stream",
     "text": [
      "====> Epoch: 50 Train loss: 1355.5328\n",
      "====> Epoch: 50 Validation loss: 1445.8569\n",
      "====> Epoch: 50 Test loss: 1450.3810\n"
     ]
    },
    {
     "name": "stderr",
     "output_type": "stream",
     "text": [
      "100%|██████████| 3134/3134 [01:03<00:00, 49.03it/s]\n",
      "100%|██████████| 783/783 [00:10<00:00, 76.65it/s]\n",
      "100%|██████████| 435/435 [00:05<00:00, 76.63it/s]\n"
     ]
    },
    {
     "name": "stdout",
     "output_type": "stream",
     "text": [
      "====> Epoch: 51 Train loss: 1355.6236\n",
      "====> Epoch: 51 Validation loss: 1445.7474\n",
      "====> Epoch: 51 Test loss: 1450.4416\n"
     ]
    },
    {
     "name": "stderr",
     "output_type": "stream",
     "text": [
      "100%|██████████| 3134/3134 [01:03<00:00, 49.06it/s]\n",
      "100%|██████████| 783/783 [00:10<00:00, 76.49it/s]\n",
      "100%|██████████| 435/435 [00:05<00:00, 76.91it/s]\n"
     ]
    },
    {
     "name": "stdout",
     "output_type": "stream",
     "text": [
      "====> Epoch: 52 Train loss: 1354.7252\n",
      "====> Epoch: 52 Validation loss: 1444.6453\n",
      "====> Epoch: 52 Test loss: 1448.9355\n"
     ]
    },
    {
     "name": "stderr",
     "output_type": "stream",
     "text": [
      "100%|██████████| 3134/3134 [01:03<00:00, 49.09it/s]\n",
      "100%|██████████| 783/783 [00:10<00:00, 77.31it/s]\n",
      "100%|██████████| 435/435 [00:05<00:00, 77.00it/s]\n"
     ]
    },
    {
     "name": "stdout",
     "output_type": "stream",
     "text": [
      "====> Epoch: 53 Train loss: 1355.0139\n",
      "====> Epoch: 53 Validation loss: 1444.1313\n",
      "====> Epoch: 53 Test loss: 1448.3951\n"
     ]
    },
    {
     "name": "stderr",
     "output_type": "stream",
     "text": [
      "100%|██████████| 3134/3134 [01:03<00:00, 49.08it/s]\n",
      "100%|██████████| 783/783 [00:10<00:00, 76.98it/s]\n",
      "100%|██████████| 435/435 [00:05<00:00, 77.04it/s]\n"
     ]
    },
    {
     "name": "stdout",
     "output_type": "stream",
     "text": [
      "====> Epoch: 54 Train loss: 1354.2522\n",
      "====> Epoch: 54 Validation loss: 1443.3052\n",
      "====> Epoch: 54 Test loss: 1447.9819\n"
     ]
    },
    {
     "name": "stderr",
     "output_type": "stream",
     "text": [
      "100%|██████████| 3134/3134 [01:03<00:00, 48.98it/s]\n",
      "100%|██████████| 783/783 [00:10<00:00, 76.51it/s]\n",
      "100%|██████████| 435/435 [00:05<00:00, 76.66it/s]\n"
     ]
    },
    {
     "name": "stdout",
     "output_type": "stream",
     "text": [
      "====> Epoch: 55 Train loss: 1354.5987\n",
      "====> Epoch: 55 Validation loss: 1442.8942\n",
      "====> Epoch: 55 Test loss: 1447.1638\n"
     ]
    },
    {
     "name": "stderr",
     "output_type": "stream",
     "text": [
      "100%|██████████| 3134/3134 [01:03<00:00, 49.16it/s]\n",
      "100%|██████████| 783/783 [00:10<00:00, 77.09it/s]\n",
      "100%|██████████| 435/435 [00:05<00:00, 76.49it/s]\n"
     ]
    },
    {
     "name": "stdout",
     "output_type": "stream",
     "text": [
      "====> Epoch: 56 Train loss: 1354.0488\n",
      "====> Epoch: 56 Validation loss: 1442.9618\n",
      "====> Epoch: 56 Test loss: 1447.7306\n"
     ]
    },
    {
     "name": "stderr",
     "output_type": "stream",
     "text": [
      "100%|██████████| 3134/3134 [01:03<00:00, 49.19it/s]\n",
      "100%|██████████| 783/783 [00:10<00:00, 76.82it/s]\n",
      "100%|██████████| 435/435 [00:05<00:00, 76.86it/s]\n"
     ]
    },
    {
     "name": "stdout",
     "output_type": "stream",
     "text": [
      "====> Epoch: 57 Train loss: 1353.9044\n",
      "====> Epoch: 57 Validation loss: 1442.2656\n",
      "====> Epoch: 57 Test loss: 1446.9743\n"
     ]
    },
    {
     "name": "stderr",
     "output_type": "stream",
     "text": [
      "100%|██████████| 3134/3134 [01:03<00:00, 49.06it/s]\n",
      "100%|██████████| 783/783 [00:10<00:00, 77.02it/s]\n",
      "100%|██████████| 435/435 [00:05<00:00, 76.78it/s]\n"
     ]
    },
    {
     "name": "stdout",
     "output_type": "stream",
     "text": [
      "====> Epoch: 58 Train loss: 1353.4827\n",
      "====> Epoch: 58 Validation loss: 1442.2694\n",
      "====> Epoch: 58 Test loss: 1446.5755\n"
     ]
    },
    {
     "name": "stderr",
     "output_type": "stream",
     "text": [
      "100%|██████████| 3134/3134 [01:03<00:00, 49.19it/s]\n",
      "100%|██████████| 783/783 [00:10<00:00, 76.88it/s]\n",
      "100%|██████████| 435/435 [00:05<00:00, 76.91it/s]\n"
     ]
    },
    {
     "name": "stdout",
     "output_type": "stream",
     "text": [
      "====> Epoch: 59 Train loss: 1353.2582\n",
      "====> Epoch: 59 Validation loss: 1442.0284\n",
      "====> Epoch: 59 Test loss: 1446.1930\n"
     ]
    },
    {
     "name": "stderr",
     "output_type": "stream",
     "text": [
      "100%|██████████| 3134/3134 [01:03<00:00, 49.11it/s]\n",
      "100%|██████████| 783/783 [00:10<00:00, 76.69it/s]\n",
      "100%|██████████| 435/435 [00:05<00:00, 76.55it/s]\n"
     ]
    },
    {
     "name": "stdout",
     "output_type": "stream",
     "text": [
      "====> Epoch: 60 Train loss: 1351.9854\n",
      "====> Epoch: 60 Validation loss: 1441.5978\n",
      "====> Epoch: 60 Test loss: 1446.2394\n"
     ]
    },
    {
     "name": "stderr",
     "output_type": "stream",
     "text": [
      "100%|██████████| 3134/3134 [01:03<00:00, 49.26it/s]\n",
      "100%|██████████| 783/783 [00:10<00:00, 77.08it/s]\n",
      "100%|██████████| 435/435 [00:05<00:00, 76.82it/s]\n"
     ]
    },
    {
     "name": "stdout",
     "output_type": "stream",
     "text": [
      "====> Epoch: 61 Train loss: 1352.1525\n",
      "====> Epoch: 61 Validation loss: 1441.7991\n",
      "====> Epoch: 61 Test loss: 1446.1858\n"
     ]
    },
    {
     "name": "stderr",
     "output_type": "stream",
     "text": [
      "100%|██████████| 3134/3134 [01:03<00:00, 49.14it/s]\n",
      "100%|██████████| 783/783 [00:10<00:00, 76.57it/s]\n",
      "100%|██████████| 435/435 [00:05<00:00, 76.89it/s]\n"
     ]
    },
    {
     "name": "stdout",
     "output_type": "stream",
     "text": [
      "====> Epoch: 62 Train loss: 1352.0540\n",
      "====> Epoch: 62 Validation loss: 1440.7668\n",
      "====> Epoch: 62 Test loss: 1445.0694\n"
     ]
    },
    {
     "name": "stderr",
     "output_type": "stream",
     "text": [
      "100%|██████████| 3134/3134 [01:03<00:00, 49.19it/s]\n",
      "100%|██████████| 783/783 [00:10<00:00, 76.77it/s]\n",
      "100%|██████████| 435/435 [00:05<00:00, 77.05it/s]\n"
     ]
    },
    {
     "name": "stdout",
     "output_type": "stream",
     "text": [
      "====> Epoch: 63 Train loss: 1350.9804\n",
      "====> Epoch: 63 Validation loss: 1441.3185\n",
      "====> Epoch: 63 Test loss: 1445.5257\n"
     ]
    },
    {
     "name": "stderr",
     "output_type": "stream",
     "text": [
      "100%|██████████| 3134/3134 [01:03<00:00, 49.17it/s]\n",
      "100%|██████████| 783/783 [00:10<00:00, 76.67it/s]\n",
      "100%|██████████| 435/435 [00:05<00:00, 76.49it/s]\n"
     ]
    },
    {
     "name": "stdout",
     "output_type": "stream",
     "text": [
      "====> Epoch: 64 Train loss: 1351.2671\n",
      "====> Epoch: 64 Validation loss: 1439.8727\n",
      "====> Epoch: 64 Test loss: 1444.2938\n"
     ]
    },
    {
     "name": "stderr",
     "output_type": "stream",
     "text": [
      "100%|██████████| 3134/3134 [01:04<00:00, 48.75it/s]\n",
      "100%|██████████| 783/783 [00:10<00:00, 75.65it/s]\n",
      "100%|██████████| 435/435 [00:05<00:00, 75.63it/s]\n"
     ]
    },
    {
     "name": "stdout",
     "output_type": "stream",
     "text": [
      "====> Epoch: 65 Train loss: 1351.3544\n",
      "====> Epoch: 65 Validation loss: 1440.4887\n",
      "====> Epoch: 65 Test loss: 1444.7870\n"
     ]
    },
    {
     "name": "stderr",
     "output_type": "stream",
     "text": [
      "100%|██████████| 3134/3134 [01:04<00:00, 48.56it/s]\n",
      "100%|██████████| 783/783 [00:10<00:00, 76.69it/s]\n",
      "100%|██████████| 435/435 [00:05<00:00, 76.65it/s]\n"
     ]
    },
    {
     "name": "stdout",
     "output_type": "stream",
     "text": [
      "====> Epoch: 66 Train loss: 1350.3020\n",
      "====> Epoch: 66 Validation loss: 1441.2012\n",
      "====> Epoch: 66 Test loss: 1445.3132\n"
     ]
    },
    {
     "name": "stderr",
     "output_type": "stream",
     "text": [
      "100%|██████████| 3134/3134 [01:03<00:00, 49.13it/s]\n",
      "100%|██████████| 783/783 [00:10<00:00, 76.99it/s]\n",
      "100%|██████████| 435/435 [00:05<00:00, 76.74it/s]\n"
     ]
    },
    {
     "name": "stdout",
     "output_type": "stream",
     "text": [
      "====> Epoch: 67 Train loss: 1351.1968\n",
      "====> Epoch: 67 Validation loss: 1439.6021\n",
      "====> Epoch: 67 Test loss: 1444.0050\n"
     ]
    },
    {
     "name": "stderr",
     "output_type": "stream",
     "text": [
      "100%|██████████| 3134/3134 [01:03<00:00, 49.13it/s]\n",
      "100%|██████████| 783/783 [00:10<00:00, 76.91it/s]\n",
      "100%|██████████| 435/435 [00:05<00:00, 77.02it/s]\n"
     ]
    },
    {
     "name": "stdout",
     "output_type": "stream",
     "text": [
      "====> Epoch: 68 Train loss: 1350.3187\n",
      "====> Epoch: 68 Validation loss: 1441.5888\n",
      "====> Epoch: 68 Test loss: 1445.7967\n"
     ]
    },
    {
     "name": "stderr",
     "output_type": "stream",
     "text": [
      "100%|██████████| 3134/3134 [01:03<00:00, 49.08it/s]\n",
      "100%|██████████| 783/783 [00:10<00:00, 75.14it/s]\n",
      "100%|██████████| 435/435 [00:05<00:00, 75.26it/s]\n"
     ]
    },
    {
     "name": "stdout",
     "output_type": "stream",
     "text": [
      "====> Epoch: 69 Train loss: 1350.0194\n",
      "====> Epoch: 69 Validation loss: 1439.7868\n",
      "====> Epoch: 69 Test loss: 1443.5089\n"
     ]
    },
    {
     "name": "stderr",
     "output_type": "stream",
     "text": [
      "100%|██████████| 3134/3134 [01:04<00:00, 48.50it/s]\n",
      "100%|██████████| 783/783 [00:10<00:00, 76.62it/s]\n",
      "100%|██████████| 435/435 [00:05<00:00, 77.53it/s]\n"
     ]
    },
    {
     "name": "stdout",
     "output_type": "stream",
     "text": [
      "====> Epoch: 70 Train loss: 1350.0294\n",
      "====> Epoch: 70 Validation loss: 1439.7261\n",
      "====> Epoch: 70 Test loss: 1443.7820\n"
     ]
    },
    {
     "name": "stderr",
     "output_type": "stream",
     "text": [
      "100%|██████████| 3134/3134 [01:03<00:00, 49.07it/s]\n",
      "100%|██████████| 783/783 [00:10<00:00, 76.48it/s]\n",
      "100%|██████████| 435/435 [00:05<00:00, 76.67it/s]\n"
     ]
    },
    {
     "name": "stdout",
     "output_type": "stream",
     "text": [
      "====> Epoch: 71 Train loss: 1350.0668\n",
      "====> Epoch: 71 Validation loss: 1439.6028\n",
      "====> Epoch: 71 Test loss: 1443.5303\n"
     ]
    },
    {
     "name": "stderr",
     "output_type": "stream",
     "text": [
      "100%|██████████| 3134/3134 [01:03<00:00, 48.99it/s]\n",
      "100%|██████████| 783/783 [00:10<00:00, 76.66it/s]\n",
      "100%|██████████| 435/435 [00:05<00:00, 76.70it/s]\n"
     ]
    },
    {
     "name": "stdout",
     "output_type": "stream",
     "text": [
      "====> Epoch: 72 Train loss: 1349.3623\n",
      "====> Epoch: 72 Validation loss: 1439.8237\n",
      "====> Epoch: 72 Test loss: 1443.4163\n"
     ]
    },
    {
     "name": "stderr",
     "output_type": "stream",
     "text": [
      "100%|██████████| 3134/3134 [01:03<00:00, 49.04it/s]\n",
      "100%|██████████| 783/783 [00:10<00:00, 75.93it/s]\n",
      "100%|██████████| 435/435 [00:05<00:00, 76.84it/s]\n"
     ]
    },
    {
     "name": "stdout",
     "output_type": "stream",
     "text": [
      "====> Epoch: 73 Train loss: 1348.6735\n",
      "====> Epoch: 73 Validation loss: 1439.7174\n",
      "====> Epoch: 73 Test loss: 1444.6531\n"
     ]
    },
    {
     "name": "stderr",
     "output_type": "stream",
     "text": [
      "100%|██████████| 3134/3134 [01:03<00:00, 49.15it/s]\n",
      "100%|██████████| 783/783 [00:10<00:00, 77.46it/s]\n",
      "100%|██████████| 435/435 [00:05<00:00, 77.55it/s]\n"
     ]
    },
    {
     "name": "stdout",
     "output_type": "stream",
     "text": [
      "====> Epoch: 74 Train loss: 1349.0041\n",
      "====> Epoch: 74 Validation loss: 1438.8500\n",
      "====> Epoch: 74 Test loss: 1442.9541\n"
     ]
    },
    {
     "name": "stderr",
     "output_type": "stream",
     "text": [
      "100%|██████████| 3134/3134 [01:03<00:00, 49.37it/s]\n",
      "100%|██████████| 783/783 [00:10<00:00, 77.13it/s]\n",
      "100%|██████████| 435/435 [00:05<00:00, 77.16it/s]\n"
     ]
    },
    {
     "name": "stdout",
     "output_type": "stream",
     "text": [
      "====> Epoch: 75 Train loss: 1348.6329\n",
      "====> Epoch: 75 Validation loss: 1438.2412\n",
      "====> Epoch: 75 Test loss: 1442.5110\n"
     ]
    },
    {
     "name": "stderr",
     "output_type": "stream",
     "text": [
      "100%|██████████| 3134/3134 [01:03<00:00, 49.32it/s]\n",
      "100%|██████████| 783/783 [00:10<00:00, 76.90it/s]\n",
      "100%|██████████| 435/435 [00:05<00:00, 76.90it/s]\n"
     ]
    },
    {
     "name": "stdout",
     "output_type": "stream",
     "text": [
      "====> Epoch: 76 Train loss: 1348.2693\n",
      "====> Epoch: 76 Validation loss: 1438.9177\n",
      "====> Epoch: 76 Test loss: 1442.9667\n"
     ]
    },
    {
     "name": "stderr",
     "output_type": "stream",
     "text": [
      "100%|██████████| 3134/3134 [01:03<00:00, 49.22it/s]\n",
      "100%|██████████| 783/783 [00:10<00:00, 77.11it/s]\n",
      "100%|██████████| 435/435 [00:05<00:00, 76.85it/s]\n"
     ]
    },
    {
     "name": "stdout",
     "output_type": "stream",
     "text": [
      "====> Epoch: 77 Train loss: 1348.2916\n",
      "====> Epoch: 77 Validation loss: 1438.4841\n",
      "====> Epoch: 77 Test loss: 1442.6950\n"
     ]
    },
    {
     "name": "stderr",
     "output_type": "stream",
     "text": [
      "100%|██████████| 3134/3134 [01:04<00:00, 48.90it/s]\n",
      "100%|██████████| 783/783 [00:10<00:00, 76.43it/s]\n",
      "100%|██████████| 435/435 [00:05<00:00, 76.58it/s]\n"
     ]
    },
    {
     "name": "stdout",
     "output_type": "stream",
     "text": [
      "====> Epoch: 78 Train loss: 1348.1366\n",
      "====> Epoch: 78 Validation loss: 1437.5250\n",
      "====> Epoch: 78 Test loss: 1442.2476\n"
     ]
    },
    {
     "name": "stderr",
     "output_type": "stream",
     "text": [
      "100%|██████████| 3134/3134 [01:04<00:00, 48.86it/s]\n",
      "100%|██████████| 783/783 [00:10<00:00, 76.44it/s]\n",
      "100%|██████████| 435/435 [00:05<00:00, 76.41it/s]\n"
     ]
    },
    {
     "name": "stdout",
     "output_type": "stream",
     "text": [
      "====> Epoch: 79 Train loss: 1347.6862\n",
      "====> Epoch: 79 Validation loss: 1437.4677\n",
      "====> Epoch: 79 Test loss: 1442.6560\n"
     ]
    },
    {
     "name": "stderr",
     "output_type": "stream",
     "text": [
      "100%|██████████| 3134/3134 [01:04<00:00, 48.86it/s]\n",
      "100%|██████████| 783/783 [00:10<00:00, 76.29it/s]\n",
      "100%|██████████| 435/435 [00:05<00:00, 76.50it/s]\n"
     ]
    },
    {
     "name": "stdout",
     "output_type": "stream",
     "text": [
      "====> Epoch: 80 Train loss: 1347.6433\n",
      "====> Epoch: 80 Validation loss: 1437.6598\n",
      "====> Epoch: 80 Test loss: 1442.3238\n"
     ]
    },
    {
     "name": "stderr",
     "output_type": "stream",
     "text": [
      "100%|██████████| 3134/3134 [01:04<00:00, 48.91it/s]\n",
      "100%|██████████| 783/783 [00:10<00:00, 76.92it/s]\n",
      "100%|██████████| 435/435 [00:05<00:00, 76.49it/s]\n"
     ]
    },
    {
     "name": "stdout",
     "output_type": "stream",
     "text": [
      "====> Epoch: 81 Train loss: 1347.7147\n",
      "====> Epoch: 81 Validation loss: 1436.1134\n",
      "====> Epoch: 81 Test loss: 1441.3498\n"
     ]
    },
    {
     "name": "stderr",
     "output_type": "stream",
     "text": [
      "100%|██████████| 3134/3134 [01:04<00:00, 48.84it/s]\n",
      "100%|██████████| 783/783 [00:10<00:00, 77.03it/s]\n",
      "100%|██████████| 435/435 [00:05<00:00, 76.96it/s]\n"
     ]
    },
    {
     "name": "stdout",
     "output_type": "stream",
     "text": [
      "====> Epoch: 82 Train loss: 1347.3964\n",
      "====> Epoch: 82 Validation loss: 1437.0522\n",
      "====> Epoch: 82 Test loss: 1440.9385\n"
     ]
    },
    {
     "name": "stderr",
     "output_type": "stream",
     "text": [
      "100%|██████████| 3134/3134 [01:03<00:00, 49.10it/s]\n",
      "100%|██████████| 783/783 [00:10<00:00, 76.65it/s]\n",
      "100%|██████████| 435/435 [00:05<00:00, 76.67it/s]\n"
     ]
    },
    {
     "name": "stdout",
     "output_type": "stream",
     "text": [
      "====> Epoch: 83 Train loss: 1346.6653\n",
      "====> Epoch: 83 Validation loss: 1436.1284\n",
      "====> Epoch: 83 Test loss: 1441.1508\n"
     ]
    },
    {
     "name": "stderr",
     "output_type": "stream",
     "text": [
      "100%|██████████| 3134/3134 [01:03<00:00, 49.05it/s]\n",
      "100%|██████████| 783/783 [00:10<00:00, 76.94it/s]\n",
      "100%|██████████| 435/435 [00:05<00:00, 77.05it/s]\n"
     ]
    },
    {
     "name": "stdout",
     "output_type": "stream",
     "text": [
      "====> Epoch: 84 Train loss: 1346.9713\n",
      "====> Epoch: 84 Validation loss: 1437.0375\n",
      "====> Epoch: 84 Test loss: 1440.9937\n"
     ]
    },
    {
     "name": "stderr",
     "output_type": "stream",
     "text": [
      "100%|██████████| 3134/3134 [01:02<00:00, 49.88it/s]\n",
      "100%|██████████| 783/783 [00:10<00:00, 77.35it/s]\n",
      "100%|██████████| 435/435 [00:05<00:00, 77.61it/s]\n"
     ]
    },
    {
     "name": "stdout",
     "output_type": "stream",
     "text": [
      "====> Epoch: 85 Train loss: 1347.1024\n",
      "====> Epoch: 85 Validation loss: 1436.0290\n",
      "====> Epoch: 85 Test loss: 1440.5716\n"
     ]
    },
    {
     "name": "stderr",
     "output_type": "stream",
     "text": [
      "100%|██████████| 3134/3134 [01:02<00:00, 49.86it/s]\n",
      "100%|██████████| 783/783 [00:10<00:00, 77.53it/s]\n",
      "100%|██████████| 435/435 [00:05<00:00, 77.55it/s]\n"
     ]
    },
    {
     "name": "stdout",
     "output_type": "stream",
     "text": [
      "====> Epoch: 86 Train loss: 1346.7828\n",
      "====> Epoch: 86 Validation loss: 1435.9426\n",
      "====> Epoch: 86 Test loss: 1441.0072\n"
     ]
    },
    {
     "name": "stderr",
     "output_type": "stream",
     "text": [
      "100%|██████████| 3134/3134 [01:03<00:00, 49.65it/s]\n",
      "100%|██████████| 783/783 [00:10<00:00, 77.26it/s]\n",
      "100%|██████████| 435/435 [00:05<00:00, 77.70it/s]\n"
     ]
    },
    {
     "name": "stdout",
     "output_type": "stream",
     "text": [
      "====> Epoch: 87 Train loss: 1346.4030\n",
      "====> Epoch: 87 Validation loss: 1436.7060\n",
      "====> Epoch: 87 Test loss: 1441.4304\n"
     ]
    },
    {
     "name": "stderr",
     "output_type": "stream",
     "text": [
      "100%|██████████| 3134/3134 [01:03<00:00, 49.68it/s]\n",
      "100%|██████████| 783/783 [00:10<00:00, 76.75it/s]\n",
      "100%|██████████| 435/435 [00:05<00:00, 77.41it/s]\n"
     ]
    },
    {
     "name": "stdout",
     "output_type": "stream",
     "text": [
      "====> Epoch: 88 Train loss: 1346.3774\n",
      "====> Epoch: 88 Validation loss: 1436.6067\n",
      "====> Epoch: 88 Test loss: 1441.0365\n"
     ]
    },
    {
     "name": "stderr",
     "output_type": "stream",
     "text": [
      "100%|██████████| 3134/3134 [01:03<00:00, 49.63it/s]\n",
      "100%|██████████| 783/783 [00:10<00:00, 77.52it/s]\n",
      "100%|██████████| 435/435 [00:05<00:00, 77.64it/s]\n"
     ]
    },
    {
     "name": "stdout",
     "output_type": "stream",
     "text": [
      "====> Epoch: 89 Train loss: 1345.3860\n",
      "====> Epoch: 89 Validation loss: 1438.8872\n",
      "====> Epoch: 89 Test loss: 1442.3225\n"
     ]
    },
    {
     "name": "stderr",
     "output_type": "stream",
     "text": [
      "100%|██████████| 3134/3134 [01:03<00:00, 49.66it/s]\n",
      "100%|██████████| 783/783 [00:10<00:00, 77.36it/s]\n",
      "100%|██████████| 435/435 [00:05<00:00, 77.76it/s]\n"
     ]
    },
    {
     "name": "stdout",
     "output_type": "stream",
     "text": [
      "====> Epoch: 90 Train loss: 1345.8525\n",
      "====> Epoch: 90 Validation loss: 1436.0419\n",
      "====> Epoch: 90 Test loss: 1440.9146\n"
     ]
    },
    {
     "name": "stderr",
     "output_type": "stream",
     "text": [
      "100%|██████████| 3134/3134 [01:02<00:00, 49.81it/s]\n",
      "100%|██████████| 783/783 [00:10<00:00, 77.83it/s]\n",
      "100%|██████████| 435/435 [00:05<00:00, 77.90it/s]\n"
     ]
    },
    {
     "name": "stdout",
     "output_type": "stream",
     "text": [
      "====> Epoch: 91 Train loss: 1345.1768\n",
      "====> Epoch: 91 Validation loss: 1434.7900\n",
      "====> Epoch: 91 Test loss: 1438.8024\n"
     ]
    },
    {
     "name": "stderr",
     "output_type": "stream",
     "text": [
      "100%|██████████| 3134/3134 [01:03<00:00, 49.71it/s]\n",
      "100%|██████████| 783/783 [00:10<00:00, 77.52it/s]\n",
      "100%|██████████| 435/435 [00:05<00:00, 77.61it/s]\n"
     ]
    },
    {
     "name": "stdout",
     "output_type": "stream",
     "text": [
      "====> Epoch: 92 Train loss: 1345.2467\n",
      "====> Epoch: 92 Validation loss: 1435.4853\n",
      "====> Epoch: 92 Test loss: 1439.7143\n"
     ]
    },
    {
     "name": "stderr",
     "output_type": "stream",
     "text": [
      "100%|██████████| 3134/3134 [01:03<00:00, 49.63it/s]\n",
      "100%|██████████| 783/783 [00:10<00:00, 77.69it/s]\n",
      "100%|██████████| 435/435 [00:05<00:00, 77.49it/s]\n"
     ]
    },
    {
     "name": "stdout",
     "output_type": "stream",
     "text": [
      "====> Epoch: 93 Train loss: 1346.0061\n",
      "====> Epoch: 93 Validation loss: 1434.9570\n",
      "====> Epoch: 93 Test loss: 1439.3726\n"
     ]
    },
    {
     "name": "stderr",
     "output_type": "stream",
     "text": [
      "100%|██████████| 3134/3134 [01:03<00:00, 49.62it/s]\n",
      "100%|██████████| 783/783 [00:10<00:00, 77.74it/s]\n",
      "100%|██████████| 435/435 [00:05<00:00, 77.51it/s]\n"
     ]
    },
    {
     "name": "stdout",
     "output_type": "stream",
     "text": [
      "====> Epoch: 94 Train loss: 1345.2285\n",
      "====> Epoch: 94 Validation loss: 1436.3878\n",
      "====> Epoch: 94 Test loss: 1440.4978\n"
     ]
    },
    {
     "name": "stderr",
     "output_type": "stream",
     "text": [
      "100%|██████████| 3134/3134 [01:02<00:00, 49.77it/s]\n",
      "100%|██████████| 783/783 [00:10<00:00, 77.78it/s]\n",
      "100%|██████████| 435/435 [00:05<00:00, 77.54it/s]\n"
     ]
    },
    {
     "name": "stdout",
     "output_type": "stream",
     "text": [
      "====> Epoch: 95 Train loss: 1345.1976\n",
      "====> Epoch: 95 Validation loss: 1435.1152\n",
      "====> Epoch: 95 Test loss: 1439.0610\n"
     ]
    },
    {
     "name": "stderr",
     "output_type": "stream",
     "text": [
      "100%|██████████| 3134/3134 [01:02<00:00, 49.93it/s]\n",
      "100%|██████████| 783/783 [00:10<00:00, 77.48it/s]\n",
      "100%|██████████| 435/435 [00:05<00:00, 77.61it/s]\n"
     ]
    },
    {
     "name": "stdout",
     "output_type": "stream",
     "text": [
      "====> Epoch: 96 Train loss: 1345.4370\n",
      "====> Epoch: 96 Validation loss: 1434.8409\n",
      "====> Epoch: 96 Test loss: 1439.1543\n"
     ]
    },
    {
     "name": "stderr",
     "output_type": "stream",
     "text": [
      "100%|██████████| 3134/3134 [01:03<00:00, 49.74it/s]\n",
      "100%|██████████| 783/783 [00:10<00:00, 77.74it/s]\n",
      "100%|██████████| 435/435 [00:05<00:00, 74.33it/s]\n"
     ]
    },
    {
     "name": "stdout",
     "output_type": "stream",
     "text": [
      "====> Epoch: 97 Train loss: 1344.6368\n",
      "====> Epoch: 97 Validation loss: 1434.6341\n",
      "====> Epoch: 97 Test loss: 1438.9590\n"
     ]
    },
    {
     "name": "stderr",
     "output_type": "stream",
     "text": [
      "100%|██████████| 3134/3134 [01:03<00:00, 49.66it/s]\n",
      "100%|██████████| 783/783 [00:10<00:00, 77.73it/s]\n",
      "100%|██████████| 435/435 [00:05<00:00, 77.59it/s]\n"
     ]
    },
    {
     "name": "stdout",
     "output_type": "stream",
     "text": [
      "====> Epoch: 98 Train loss: 1344.2309\n",
      "====> Epoch: 98 Validation loss: 1436.2706\n",
      "====> Epoch: 98 Test loss: 1440.0277\n"
     ]
    },
    {
     "name": "stderr",
     "output_type": "stream",
     "text": [
      "100%|██████████| 3134/3134 [01:03<00:00, 49.61it/s]\n",
      "100%|██████████| 783/783 [00:10<00:00, 77.56it/s]\n",
      "100%|██████████| 435/435 [00:05<00:00, 77.42it/s]\n"
     ]
    },
    {
     "name": "stdout",
     "output_type": "stream",
     "text": [
      "====> Epoch: 99 Train loss: 1344.4027\n",
      "====> Epoch: 99 Validation loss: 1434.4291\n",
      "====> Epoch: 99 Test loss: 1438.3327\n"
     ]
    },
    {
     "name": "stderr",
     "output_type": "stream",
     "text": [
      "100%|██████████| 3134/3134 [01:03<00:00, 49.61it/s]\n",
      "100%|██████████| 783/783 [00:10<00:00, 77.60it/s]\n",
      "100%|██████████| 435/435 [00:05<00:00, 77.35it/s]\n"
     ]
    },
    {
     "name": "stdout",
     "output_type": "stream",
     "text": [
      "====> Epoch: 100 Train loss: 1344.3855\n",
      "====> Epoch: 100 Validation loss: 1435.3282\n",
      "====> Epoch: 100 Test loss: 1439.7888\n"
     ]
    },
    {
     "name": "stderr",
     "output_type": "stream",
     "text": [
      "100%|██████████| 3134/3134 [01:03<00:00, 49.66it/s]\n",
      "100%|██████████| 783/783 [00:10<00:00, 77.64it/s]\n",
      "100%|██████████| 435/435 [00:05<00:00, 77.58it/s]\n"
     ]
    },
    {
     "name": "stdout",
     "output_type": "stream",
     "text": [
      "====> Epoch: 101 Train loss: 1343.6966\n",
      "====> Epoch: 101 Validation loss: 1435.9552\n",
      "====> Epoch: 101 Test loss: 1440.0190\n"
     ]
    },
    {
     "name": "stderr",
     "output_type": "stream",
     "text": [
      "100%|██████████| 3134/3134 [01:03<00:00, 49.58it/s]\n",
      "100%|██████████| 783/783 [00:10<00:00, 77.57it/s]\n",
      "100%|██████████| 435/435 [00:05<00:00, 77.64it/s]\n"
     ]
    },
    {
     "name": "stdout",
     "output_type": "stream",
     "text": [
      "====> Epoch: 102 Train loss: 1343.7154\n",
      "====> Epoch: 102 Validation loss: 1433.7621\n",
      "====> Epoch: 102 Test loss: 1438.1869\n"
     ]
    },
    {
     "name": "stderr",
     "output_type": "stream",
     "text": [
      "100%|██████████| 3134/3134 [01:03<00:00, 49.62it/s]\n",
      "100%|██████████| 783/783 [00:10<00:00, 77.68it/s]\n",
      "100%|██████████| 435/435 [00:05<00:00, 77.65it/s]\n"
     ]
    },
    {
     "name": "stdout",
     "output_type": "stream",
     "text": [
      "====> Epoch: 103 Train loss: 1344.2495\n",
      "====> Epoch: 103 Validation loss: 1435.0573\n",
      "====> Epoch: 103 Test loss: 1439.7823\n"
     ]
    },
    {
     "name": "stderr",
     "output_type": "stream",
     "text": [
      "100%|██████████| 3134/3134 [01:03<00:00, 49.70it/s]\n",
      "100%|██████████| 783/783 [00:10<00:00, 77.77it/s]\n",
      "100%|██████████| 435/435 [00:05<00:00, 77.68it/s]\n"
     ]
    },
    {
     "name": "stdout",
     "output_type": "stream",
     "text": [
      "====> Epoch: 104 Train loss: 1343.7402\n",
      "====> Epoch: 104 Validation loss: 1434.8322\n",
      "====> Epoch: 104 Test loss: 1438.8426\n"
     ]
    },
    {
     "name": "stderr",
     "output_type": "stream",
     "text": [
      "100%|██████████| 3134/3134 [01:03<00:00, 49.63it/s]\n",
      "100%|██████████| 783/783 [00:10<00:00, 77.28it/s]\n",
      "100%|██████████| 435/435 [00:05<00:00, 77.38it/s]\n"
     ]
    },
    {
     "name": "stdout",
     "output_type": "stream",
     "text": [
      "====> Epoch: 105 Train loss: 1343.6167\n",
      "====> Epoch: 105 Validation loss: 1433.5726\n",
      "====> Epoch: 105 Test loss: 1438.0138\n"
     ]
    },
    {
     "name": "stderr",
     "output_type": "stream",
     "text": [
      "100%|██████████| 3134/3134 [01:03<00:00, 49.69it/s]\n",
      "100%|██████████| 783/783 [00:10<00:00, 77.59it/s]\n",
      "100%|██████████| 435/435 [00:05<00:00, 77.60it/s]\n"
     ]
    },
    {
     "name": "stdout",
     "output_type": "stream",
     "text": [
      "====> Epoch: 106 Train loss: 1343.3176\n",
      "====> Epoch: 106 Validation loss: 1433.4100\n",
      "====> Epoch: 106 Test loss: 1437.5451\n"
     ]
    },
    {
     "name": "stderr",
     "output_type": "stream",
     "text": [
      "100%|██████████| 3134/3134 [01:02<00:00, 49.76it/s]\n",
      "100%|██████████| 783/783 [00:10<00:00, 77.69it/s]\n",
      "100%|██████████| 435/435 [00:05<00:00, 75.93it/s]\n"
     ]
    },
    {
     "name": "stdout",
     "output_type": "stream",
     "text": [
      "====> Epoch: 107 Train loss: 1342.7478\n",
      "====> Epoch: 107 Validation loss: 1434.1234\n",
      "====> Epoch: 107 Test loss: 1437.9977\n"
     ]
    },
    {
     "name": "stderr",
     "output_type": "stream",
     "text": [
      "100%|██████████| 3134/3134 [01:03<00:00, 49.73it/s]\n",
      "100%|██████████| 783/783 [00:10<00:00, 77.49it/s]\n",
      "100%|██████████| 435/435 [00:05<00:00, 77.76it/s]\n"
     ]
    },
    {
     "name": "stdout",
     "output_type": "stream",
     "text": [
      "====> Epoch: 108 Train loss: 1343.4923\n",
      "====> Epoch: 108 Validation loss: 1433.3583\n",
      "====> Epoch: 108 Test loss: 1437.1447\n"
     ]
    },
    {
     "name": "stderr",
     "output_type": "stream",
     "text": [
      "100%|██████████| 3134/3134 [01:03<00:00, 49.64it/s]\n",
      "100%|██████████| 783/783 [00:10<00:00, 77.84it/s]\n",
      "100%|██████████| 435/435 [00:05<00:00, 76.72it/s]\n"
     ]
    },
    {
     "name": "stdout",
     "output_type": "stream",
     "text": [
      "====> Epoch: 109 Train loss: 1342.6146\n",
      "====> Epoch: 109 Validation loss: 1434.1532\n",
      "====> Epoch: 109 Test loss: 1438.4972\n"
     ]
    },
    {
     "name": "stderr",
     "output_type": "stream",
     "text": [
      "100%|██████████| 3134/3134 [01:02<00:00, 49.93it/s]\n",
      "100%|██████████| 783/783 [00:10<00:00, 77.94it/s]\n",
      "100%|██████████| 435/435 [00:05<00:00, 77.97it/s]\n"
     ]
    },
    {
     "name": "stdout",
     "output_type": "stream",
     "text": [
      "====> Epoch: 110 Train loss: 1343.1566\n",
      "====> Epoch: 110 Validation loss: 1432.8816\n",
      "====> Epoch: 110 Test loss: 1437.5858\n"
     ]
    },
    {
     "name": "stderr",
     "output_type": "stream",
     "text": [
      "100%|██████████| 3134/3134 [01:02<00:00, 49.85it/s]\n",
      "100%|██████████| 783/783 [00:10<00:00, 77.34it/s]\n",
      "100%|██████████| 435/435 [00:05<00:00, 77.41it/s]\n"
     ]
    },
    {
     "name": "stdout",
     "output_type": "stream",
     "text": [
      "====> Epoch: 111 Train loss: 1343.3598\n",
      "====> Epoch: 111 Validation loss: 1436.7565\n",
      "====> Epoch: 111 Test loss: 1440.7228\n"
     ]
    },
    {
     "name": "stderr",
     "output_type": "stream",
     "text": [
      "100%|██████████| 3134/3134 [01:03<00:00, 49.52it/s]\n",
      "100%|██████████| 783/783 [00:10<00:00, 77.07it/s]\n",
      "100%|██████████| 435/435 [00:05<00:00, 77.41it/s]\n"
     ]
    },
    {
     "name": "stdout",
     "output_type": "stream",
     "text": [
      "====> Epoch: 112 Train loss: 1342.4490\n",
      "====> Epoch: 112 Validation loss: 1433.1125\n",
      "====> Epoch: 112 Test loss: 1437.3719\n"
     ]
    },
    {
     "name": "stderr",
     "output_type": "stream",
     "text": [
      "100%|██████████| 3134/3134 [01:03<00:00, 49.40it/s]\n",
      "100%|██████████| 783/783 [00:10<00:00, 77.09it/s]\n",
      "100%|██████████| 435/435 [00:05<00:00, 76.92it/s]\n"
     ]
    },
    {
     "name": "stdout",
     "output_type": "stream",
     "text": [
      "====> Epoch: 113 Train loss: 1342.9448\n",
      "====> Epoch: 113 Validation loss: 1432.5734\n",
      "====> Epoch: 113 Test loss: 1436.9346\n"
     ]
    },
    {
     "name": "stderr",
     "output_type": "stream",
     "text": [
      "100%|██████████| 3134/3134 [01:03<00:00, 49.51it/s]\n",
      "100%|██████████| 783/783 [00:10<00:00, 77.42it/s]\n",
      "100%|██████████| 435/435 [00:05<00:00, 77.12it/s]\n"
     ]
    },
    {
     "name": "stdout",
     "output_type": "stream",
     "text": [
      "====> Epoch: 114 Train loss: 1342.8821\n",
      "====> Epoch: 114 Validation loss: 1433.1190\n",
      "====> Epoch: 114 Test loss: 1437.6749\n"
     ]
    },
    {
     "name": "stderr",
     "output_type": "stream",
     "text": [
      "100%|██████████| 3134/3134 [01:03<00:00, 49.64it/s]\n",
      "100%|██████████| 783/783 [00:10<00:00, 77.33it/s]\n",
      "100%|██████████| 435/435 [00:05<00:00, 77.61it/s]\n"
     ]
    },
    {
     "name": "stdout",
     "output_type": "stream",
     "text": [
      "====> Epoch: 115 Train loss: 1342.4985\n",
      "====> Epoch: 115 Validation loss: 1433.0564\n",
      "====> Epoch: 115 Test loss: 1438.1003\n"
     ]
    },
    {
     "name": "stderr",
     "output_type": "stream",
     "text": [
      "100%|██████████| 3134/3134 [01:03<00:00, 49.70it/s]\n",
      "100%|██████████| 783/783 [00:10<00:00, 75.54it/s]\n",
      "100%|██████████| 435/435 [00:05<00:00, 77.41it/s]\n"
     ]
    },
    {
     "name": "stdout",
     "output_type": "stream",
     "text": [
      "====> Epoch: 116 Train loss: 1342.5689\n",
      "====> Epoch: 116 Validation loss: 1432.1189\n",
      "====> Epoch: 116 Test loss: 1437.0312\n"
     ]
    },
    {
     "name": "stderr",
     "output_type": "stream",
     "text": [
      "100%|██████████| 3134/3134 [01:03<00:00, 49.57it/s]\n",
      "100%|██████████| 783/783 [00:10<00:00, 77.54it/s]\n",
      "100%|██████████| 435/435 [00:05<00:00, 77.57it/s]\n"
     ]
    },
    {
     "name": "stdout",
     "output_type": "stream",
     "text": [
      "====> Epoch: 117 Train loss: 1342.6087\n",
      "====> Epoch: 117 Validation loss: 1433.9370\n",
      "====> Epoch: 117 Test loss: 1438.3795\n"
     ]
    },
    {
     "name": "stderr",
     "output_type": "stream",
     "text": [
      "100%|██████████| 3134/3134 [01:03<00:00, 49.63it/s]\n",
      "100%|██████████| 783/783 [00:10<00:00, 76.51it/s]\n",
      "100%|██████████| 435/435 [00:05<00:00, 76.88it/s]\n"
     ]
    },
    {
     "name": "stdout",
     "output_type": "stream",
     "text": [
      "====> Epoch: 118 Train loss: 1341.4340\n",
      "====> Epoch: 118 Validation loss: 1432.3806\n",
      "====> Epoch: 118 Test loss: 1436.5571\n"
     ]
    },
    {
     "name": "stderr",
     "output_type": "stream",
     "text": [
      "100%|██████████| 3134/3134 [01:03<00:00, 49.07it/s]\n",
      "100%|██████████| 783/783 [00:10<00:00, 77.19it/s]\n",
      "100%|██████████| 435/435 [00:05<00:00, 77.43it/s]\n"
     ]
    },
    {
     "name": "stdout",
     "output_type": "stream",
     "text": [
      "====> Epoch: 119 Train loss: 1342.0989\n",
      "====> Epoch: 119 Validation loss: 1433.2252\n",
      "====> Epoch: 119 Test loss: 1437.5676\n"
     ]
    },
    {
     "name": "stderr",
     "output_type": "stream",
     "text": [
      "100%|██████████| 3134/3134 [01:03<00:00, 49.62it/s]\n",
      "100%|██████████| 783/783 [00:10<00:00, 77.54it/s]\n",
      "100%|██████████| 435/435 [00:05<00:00, 77.65it/s]\n"
     ]
    },
    {
     "name": "stdout",
     "output_type": "stream",
     "text": [
      "====> Epoch: 120 Train loss: 1342.1325\n",
      "====> Epoch: 120 Validation loss: 1431.5962\n",
      "====> Epoch: 120 Test loss: 1436.4016\n"
     ]
    },
    {
     "name": "stderr",
     "output_type": "stream",
     "text": [
      "100%|██████████| 3134/3134 [01:03<00:00, 49.68it/s]\n",
      "100%|██████████| 783/783 [00:10<00:00, 77.37it/s]\n",
      "100%|██████████| 435/435 [00:05<00:00, 77.53it/s]\n"
     ]
    },
    {
     "name": "stdout",
     "output_type": "stream",
     "text": [
      "====> Epoch: 121 Train loss: 1341.7307\n",
      "====> Epoch: 121 Validation loss: 1432.5722\n",
      "====> Epoch: 121 Test loss: 1436.0016\n"
     ]
    },
    {
     "name": "stderr",
     "output_type": "stream",
     "text": [
      "100%|██████████| 3134/3134 [01:03<00:00, 49.55it/s]\n",
      "100%|██████████| 783/783 [00:10<00:00, 77.39it/s]\n",
      "100%|██████████| 435/435 [00:05<00:00, 77.46it/s]\n"
     ]
    },
    {
     "name": "stdout",
     "output_type": "stream",
     "text": [
      "====> Epoch: 122 Train loss: 1341.9222\n",
      "====> Epoch: 122 Validation loss: 1431.7570\n",
      "====> Epoch: 122 Test loss: 1436.1289\n"
     ]
    },
    {
     "name": "stderr",
     "output_type": "stream",
     "text": [
      "100%|██████████| 3134/3134 [01:03<00:00, 49.20it/s]\n",
      "100%|██████████| 783/783 [00:10<00:00, 77.41it/s]\n",
      "100%|██████████| 435/435 [00:05<00:00, 77.55it/s]\n"
     ]
    },
    {
     "name": "stdout",
     "output_type": "stream",
     "text": [
      "====> Epoch: 123 Train loss: 1342.0408\n",
      "====> Epoch: 123 Validation loss: 1433.4076\n",
      "====> Epoch: 123 Test loss: 1437.2768\n"
     ]
    },
    {
     "name": "stderr",
     "output_type": "stream",
     "text": [
      "100%|██████████| 3134/3134 [01:03<00:00, 49.60it/s]\n",
      "100%|██████████| 783/783 [00:10<00:00, 77.22it/s]\n",
      "100%|██████████| 435/435 [00:05<00:00, 77.05it/s]\n"
     ]
    },
    {
     "name": "stdout",
     "output_type": "stream",
     "text": [
      "====> Epoch: 124 Train loss: 1341.0471\n",
      "====> Epoch: 124 Validation loss: 1430.8482\n",
      "====> Epoch: 124 Test loss: 1435.4397\n"
     ]
    },
    {
     "name": "stderr",
     "output_type": "stream",
     "text": [
      "100%|██████████| 3134/3134 [01:03<00:00, 49.69it/s]\n",
      "100%|██████████| 783/783 [00:10<00:00, 77.75it/s]\n",
      "100%|██████████| 435/435 [00:05<00:00, 77.55it/s]\n"
     ]
    },
    {
     "name": "stdout",
     "output_type": "stream",
     "text": [
      "====> Epoch: 125 Train loss: 1340.9094\n",
      "====> Epoch: 125 Validation loss: 1431.9976\n",
      "====> Epoch: 125 Test loss: 1436.2095\n"
     ]
    },
    {
     "name": "stderr",
     "output_type": "stream",
     "text": [
      "100%|██████████| 3134/3134 [01:03<00:00, 49.69it/s]\n",
      "100%|██████████| 783/783 [00:10<00:00, 77.30it/s]\n",
      "100%|██████████| 435/435 [00:05<00:00, 76.13it/s]\n"
     ]
    },
    {
     "name": "stdout",
     "output_type": "stream",
     "text": [
      "====> Epoch: 126 Train loss: 1341.2146\n",
      "====> Epoch: 126 Validation loss: 1432.1556\n",
      "====> Epoch: 126 Test loss: 1436.0220\n"
     ]
    },
    {
     "name": "stderr",
     "output_type": "stream",
     "text": [
      "100%|██████████| 3134/3134 [01:03<00:00, 49.69it/s]\n",
      "100%|██████████| 783/783 [00:10<00:00, 77.42it/s]\n",
      "100%|██████████| 435/435 [00:05<00:00, 77.68it/s]\n"
     ]
    },
    {
     "name": "stdout",
     "output_type": "stream",
     "text": [
      "====> Epoch: 127 Train loss: 1341.3355\n",
      "====> Epoch: 127 Validation loss: 1431.2921\n",
      "====> Epoch: 127 Test loss: 1435.3389\n"
     ]
    },
    {
     "name": "stderr",
     "output_type": "stream",
     "text": [
      "100%|██████████| 3134/3134 [01:03<00:00, 49.56it/s]\n",
      "100%|██████████| 783/783 [00:10<00:00, 77.59it/s]\n",
      "100%|██████████| 435/435 [00:05<00:00, 77.40it/s]\n"
     ]
    },
    {
     "name": "stdout",
     "output_type": "stream",
     "text": [
      "====> Epoch: 128 Train loss: 1340.4212\n",
      "====> Epoch: 128 Validation loss: 1431.5255\n",
      "====> Epoch: 128 Test loss: 1435.6015\n"
     ]
    },
    {
     "name": "stderr",
     "output_type": "stream",
     "text": [
      "100%|██████████| 3134/3134 [01:03<00:00, 49.60it/s]\n",
      "100%|██████████| 783/783 [00:10<00:00, 77.71it/s]\n",
      "100%|██████████| 435/435 [00:05<00:00, 77.62it/s]\n"
     ]
    },
    {
     "name": "stdout",
     "output_type": "stream",
     "text": [
      "====> Epoch: 129 Train loss: 1341.4779\n",
      "====> Epoch: 129 Validation loss: 1432.2954\n",
      "====> Epoch: 129 Test loss: 1436.2193\n"
     ]
    },
    {
     "name": "stderr",
     "output_type": "stream",
     "text": [
      "100%|██████████| 3134/3134 [01:03<00:00, 49.30it/s]\n",
      "100%|██████████| 783/783 [00:10<00:00, 77.52it/s]\n",
      "100%|██████████| 435/435 [00:05<00:00, 77.55it/s]\n"
     ]
    },
    {
     "name": "stdout",
     "output_type": "stream",
     "text": [
      "====> Epoch: 130 Train loss: 1340.1318\n",
      "====> Epoch: 130 Validation loss: 1430.8893\n",
      "====> Epoch: 130 Test loss: 1435.4191\n"
     ]
    },
    {
     "name": "stderr",
     "output_type": "stream",
     "text": [
      "100%|██████████| 3134/3134 [01:03<00:00, 49.65it/s]\n",
      "100%|██████████| 783/783 [00:10<00:00, 77.32it/s]\n",
      "100%|██████████| 435/435 [00:05<00:00, 77.49it/s]\n"
     ]
    },
    {
     "name": "stdout",
     "output_type": "stream",
     "text": [
      "====> Epoch: 131 Train loss: 1340.3265\n",
      "====> Epoch: 131 Validation loss: 1431.4956\n",
      "====> Epoch: 131 Test loss: 1435.6391\n"
     ]
    },
    {
     "name": "stderr",
     "output_type": "stream",
     "text": [
      "100%|██████████| 3134/3134 [01:03<00:00, 49.63it/s]\n",
      "100%|██████████| 783/783 [00:10<00:00, 77.19it/s]\n",
      "100%|██████████| 435/435 [00:05<00:00, 77.49it/s]\n"
     ]
    },
    {
     "name": "stdout",
     "output_type": "stream",
     "text": [
      "====> Epoch: 132 Train loss: 1341.3362\n",
      "====> Epoch: 132 Validation loss: 1430.2202\n",
      "====> Epoch: 132 Test loss: 1434.9909\n"
     ]
    },
    {
     "name": "stderr",
     "output_type": "stream",
     "text": [
      "100%|██████████| 3134/3134 [01:03<00:00, 49.55it/s]\n",
      "100%|██████████| 783/783 [00:10<00:00, 77.22it/s]\n",
      "100%|██████████| 435/435 [00:05<00:00, 77.23it/s]\n"
     ]
    },
    {
     "name": "stdout",
     "output_type": "stream",
     "text": [
      "====> Epoch: 133 Train loss: 1340.6720\n",
      "====> Epoch: 133 Validation loss: 1430.4925\n",
      "====> Epoch: 133 Test loss: 1434.6892\n"
     ]
    },
    {
     "name": "stderr",
     "output_type": "stream",
     "text": [
      "100%|██████████| 3134/3134 [01:03<00:00, 49.43it/s]\n",
      "100%|██████████| 783/783 [00:10<00:00, 77.54it/s]\n",
      "100%|██████████| 435/435 [00:05<00:00, 77.56it/s]\n"
     ]
    },
    {
     "name": "stdout",
     "output_type": "stream",
     "text": [
      "====> Epoch: 134 Train loss: 1340.1953\n",
      "====> Epoch: 134 Validation loss: 1431.4088\n",
      "====> Epoch: 134 Test loss: 1435.5018\n"
     ]
    },
    {
     "name": "stderr",
     "output_type": "stream",
     "text": [
      "100%|██████████| 3134/3134 [01:03<00:00, 49.40it/s]\n",
      "100%|██████████| 783/783 [00:10<00:00, 77.24it/s]\n",
      "100%|██████████| 435/435 [00:05<00:00, 77.31it/s]\n"
     ]
    },
    {
     "name": "stdout",
     "output_type": "stream",
     "text": [
      "====> Epoch: 135 Train loss: 1339.6448\n",
      "====> Epoch: 135 Validation loss: 1430.9363\n",
      "====> Epoch: 135 Test loss: 1435.0757\n"
     ]
    },
    {
     "name": "stderr",
     "output_type": "stream",
     "text": [
      "100%|██████████| 3134/3134 [01:03<00:00, 49.57it/s]\n",
      "100%|██████████| 783/783 [00:10<00:00, 77.65it/s]\n",
      "100%|██████████| 435/435 [00:05<00:00, 77.52it/s]\n"
     ]
    },
    {
     "name": "stdout",
     "output_type": "stream",
     "text": [
      "====> Epoch: 136 Train loss: 1340.4925\n",
      "====> Epoch: 136 Validation loss: 1430.8432\n",
      "====> Epoch: 136 Test loss: 1435.6886\n"
     ]
    },
    {
     "name": "stderr",
     "output_type": "stream",
     "text": [
      "100%|██████████| 3134/3134 [01:02<00:00, 49.75it/s]\n",
      "100%|██████████| 783/783 [00:10<00:00, 77.48it/s]\n",
      "100%|██████████| 435/435 [00:05<00:00, 77.47it/s]\n"
     ]
    },
    {
     "name": "stdout",
     "output_type": "stream",
     "text": [
      "====> Epoch: 137 Train loss: 1341.0154\n",
      "====> Epoch: 137 Validation loss: 1430.2671\n",
      "====> Epoch: 137 Test loss: 1434.7455\n"
     ]
    },
    {
     "name": "stderr",
     "output_type": "stream",
     "text": [
      "100%|██████████| 3134/3134 [01:03<00:00, 49.58it/s]\n",
      "100%|██████████| 783/783 [00:10<00:00, 77.64it/s]\n",
      "100%|██████████| 435/435 [00:05<00:00, 77.71it/s]\n"
     ]
    },
    {
     "name": "stdout",
     "output_type": "stream",
     "text": [
      "====> Epoch: 138 Train loss: 1340.4195\n",
      "====> Epoch: 138 Validation loss: 1430.6121\n",
      "====> Epoch: 138 Test loss: 1434.7033\n"
     ]
    },
    {
     "name": "stderr",
     "output_type": "stream",
     "text": [
      "100%|██████████| 3134/3134 [01:03<00:00, 49.69it/s]\n",
      "100%|██████████| 783/783 [00:10<00:00, 77.71it/s]\n",
      "100%|██████████| 435/435 [00:05<00:00, 77.48it/s]\n"
     ]
    },
    {
     "name": "stdout",
     "output_type": "stream",
     "text": [
      "====> Epoch: 139 Train loss: 1339.9483\n",
      "====> Epoch: 139 Validation loss: 1430.8248\n",
      "====> Epoch: 139 Test loss: 1435.4873\n"
     ]
    },
    {
     "name": "stderr",
     "output_type": "stream",
     "text": [
      "100%|██████████| 3134/3134 [01:03<00:00, 49.50it/s]\n",
      "100%|██████████| 783/783 [00:10<00:00, 77.39it/s]\n",
      "100%|██████████| 435/435 [00:05<00:00, 77.61it/s]\n"
     ]
    },
    {
     "name": "stdout",
     "output_type": "stream",
     "text": [
      "====> Epoch: 140 Train loss: 1339.7882\n",
      "====> Epoch: 140 Validation loss: 1430.1608\n",
      "====> Epoch: 140 Test loss: 1434.5493\n"
     ]
    },
    {
     "name": "stderr",
     "output_type": "stream",
     "text": [
      "100%|██████████| 3134/3134 [01:03<00:00, 49.66it/s]\n",
      "100%|██████████| 783/783 [00:10<00:00, 77.94it/s]\n",
      "100%|██████████| 435/435 [00:05<00:00, 77.77it/s]\n"
     ]
    },
    {
     "name": "stdout",
     "output_type": "stream",
     "text": [
      "====> Epoch: 141 Train loss: 1339.0429\n",
      "====> Epoch: 141 Validation loss: 1431.1002\n",
      "====> Epoch: 141 Test loss: 1435.3610\n"
     ]
    },
    {
     "name": "stderr",
     "output_type": "stream",
     "text": [
      "100%|██████████| 3134/3134 [01:02<00:00, 49.89it/s]\n",
      "100%|██████████| 783/783 [00:10<00:00, 77.98it/s]\n",
      "100%|██████████| 435/435 [00:05<00:00, 78.00it/s]\n"
     ]
    },
    {
     "name": "stdout",
     "output_type": "stream",
     "text": [
      "====> Epoch: 142 Train loss: 1340.2485\n",
      "====> Epoch: 142 Validation loss: 1431.5171\n",
      "====> Epoch: 142 Test loss: 1436.3087\n"
     ]
    },
    {
     "name": "stderr",
     "output_type": "stream",
     "text": [
      "100%|██████████| 3134/3134 [01:03<00:00, 49.65it/s]\n",
      "100%|██████████| 783/783 [00:10<00:00, 77.62it/s]\n",
      "100%|██████████| 435/435 [00:05<00:00, 77.70it/s]\n"
     ]
    },
    {
     "name": "stdout",
     "output_type": "stream",
     "text": [
      "====> Epoch: 143 Train loss: 1339.8512\n",
      "====> Epoch: 143 Validation loss: 1429.9270\n",
      "====> Epoch: 143 Test loss: 1434.2527\n"
     ]
    },
    {
     "name": "stderr",
     "output_type": "stream",
     "text": [
      "100%|██████████| 3134/3134 [01:03<00:00, 49.61it/s]\n",
      "100%|██████████| 783/783 [00:10<00:00, 76.95it/s]\n",
      "100%|██████████| 435/435 [00:05<00:00, 77.14it/s]\n"
     ]
    },
    {
     "name": "stdout",
     "output_type": "stream",
     "text": [
      "====> Epoch: 144 Train loss: 1340.2551\n",
      "====> Epoch: 144 Validation loss: 1430.4734\n",
      "====> Epoch: 144 Test loss: 1435.1380\n"
     ]
    },
    {
     "name": "stderr",
     "output_type": "stream",
     "text": [
      "100%|██████████| 3134/3134 [01:03<00:00, 49.21it/s]\n",
      "100%|██████████| 783/783 [00:10<00:00, 77.34it/s]\n",
      "100%|██████████| 435/435 [00:05<00:00, 76.29it/s]\n"
     ]
    },
    {
     "name": "stdout",
     "output_type": "stream",
     "text": [
      "====> Epoch: 145 Train loss: 1339.4037\n",
      "====> Epoch: 145 Validation loss: 1429.9331\n",
      "====> Epoch: 145 Test loss: 1433.5299\n"
     ]
    },
    {
     "name": "stderr",
     "output_type": "stream",
     "text": [
      "100%|██████████| 3134/3134 [01:03<00:00, 49.52it/s]\n",
      "100%|██████████| 783/783 [00:10<00:00, 77.15it/s]\n",
      "100%|██████████| 435/435 [00:05<00:00, 77.51it/s]\n"
     ]
    },
    {
     "name": "stdout",
     "output_type": "stream",
     "text": [
      "====> Epoch: 146 Train loss: 1339.1675\n",
      "====> Epoch: 146 Validation loss: 1430.1849\n",
      "====> Epoch: 146 Test loss: 1433.8606\n"
     ]
    },
    {
     "name": "stderr",
     "output_type": "stream",
     "text": [
      "100%|██████████| 3134/3134 [01:03<00:00, 49.32it/s]\n",
      "100%|██████████| 783/783 [00:10<00:00, 77.66it/s]\n",
      "100%|██████████| 435/435 [00:05<00:00, 77.27it/s]\n"
     ]
    },
    {
     "name": "stdout",
     "output_type": "stream",
     "text": [
      "====> Epoch: 147 Train loss: 1339.1095\n",
      "====> Epoch: 147 Validation loss: 1429.9350\n",
      "====> Epoch: 147 Test loss: 1434.6906\n"
     ]
    },
    {
     "name": "stderr",
     "output_type": "stream",
     "text": [
      "100%|██████████| 3134/3134 [01:03<00:00, 49.48it/s]\n",
      "100%|██████████| 783/783 [00:10<00:00, 76.88it/s]\n",
      "100%|██████████| 435/435 [00:05<00:00, 77.52it/s]\n"
     ]
    },
    {
     "name": "stdout",
     "output_type": "stream",
     "text": [
      "====> Epoch: 148 Train loss: 1339.3536\n",
      "====> Epoch: 148 Validation loss: 1429.9132\n",
      "====> Epoch: 148 Test loss: 1433.3530\n"
     ]
    },
    {
     "name": "stderr",
     "output_type": "stream",
     "text": [
      "100%|██████████| 3134/3134 [01:03<00:00, 49.47it/s]\n",
      "100%|██████████| 783/783 [00:10<00:00, 77.13it/s]\n",
      "100%|██████████| 435/435 [00:05<00:00, 77.32it/s]\n"
     ]
    },
    {
     "name": "stdout",
     "output_type": "stream",
     "text": [
      "====> Epoch: 149 Train loss: 1339.3962\n",
      "====> Epoch: 149 Validation loss: 1429.6229\n",
      "====> Epoch: 149 Test loss: 1433.7090\n"
     ]
    },
    {
     "name": "stderr",
     "output_type": "stream",
     "text": [
      "100%|██████████| 3134/3134 [01:03<00:00, 49.30it/s]\n",
      "100%|██████████| 783/783 [00:10<00:00, 77.43it/s]\n",
      "100%|██████████| 435/435 [00:05<00:00, 77.05it/s]\n"
     ]
    },
    {
     "name": "stdout",
     "output_type": "stream",
     "text": [
      "====> Epoch: 150 Train loss: 1339.2919\n",
      "====> Epoch: 150 Validation loss: 1431.4009\n",
      "====> Epoch: 150 Test loss: 1435.6300\n"
     ]
    },
    {
     "name": "stderr",
     "output_type": "stream",
     "text": [
      "100%|██████████| 3134/3134 [01:03<00:00, 49.55it/s]\n",
      "100%|██████████| 783/783 [00:10<00:00, 77.46it/s]\n",
      "100%|██████████| 435/435 [00:05<00:00, 77.40it/s]\n"
     ]
    },
    {
     "name": "stdout",
     "output_type": "stream",
     "text": [
      "====> Epoch: 151 Train loss: 1338.5033\n",
      "====> Epoch: 151 Validation loss: 1429.8625\n",
      "====> Epoch: 151 Test loss: 1434.9624\n"
     ]
    },
    {
     "name": "stderr",
     "output_type": "stream",
     "text": [
      "100%|██████████| 3134/3134 [01:03<00:00, 49.47it/s]\n",
      "100%|██████████| 783/783 [00:10<00:00, 77.42it/s]\n",
      "100%|██████████| 435/435 [00:05<00:00, 77.11it/s]\n"
     ]
    },
    {
     "name": "stdout",
     "output_type": "stream",
     "text": [
      "====> Epoch: 152 Train loss: 1338.4021\n",
      "====> Epoch: 152 Validation loss: 1430.0183\n",
      "====> Epoch: 152 Test loss: 1433.7681\n"
     ]
    },
    {
     "name": "stderr",
     "output_type": "stream",
     "text": [
      "100%|██████████| 3134/3134 [01:03<00:00, 49.49it/s]\n",
      "100%|██████████| 783/783 [00:10<00:00, 77.99it/s]\n",
      "100%|██████████| 435/435 [00:05<00:00, 78.22it/s]\n"
     ]
    },
    {
     "name": "stdout",
     "output_type": "stream",
     "text": [
      "====> Epoch: 153 Train loss: 1338.3806\n",
      "====> Epoch: 153 Validation loss: 1429.0759\n",
      "====> Epoch: 153 Test loss: 1433.5875\n"
     ]
    },
    {
     "name": "stderr",
     "output_type": "stream",
     "text": [
      "100%|██████████| 3134/3134 [01:02<00:00, 50.01it/s]\n",
      "100%|██████████| 783/783 [00:10<00:00, 77.95it/s]\n",
      "100%|██████████| 435/435 [00:05<00:00, 78.13it/s]\n"
     ]
    },
    {
     "name": "stdout",
     "output_type": "stream",
     "text": [
      "====> Epoch: 154 Train loss: 1339.2481\n",
      "====> Epoch: 154 Validation loss: 1428.9227\n",
      "====> Epoch: 154 Test loss: 1432.9080\n"
     ]
    },
    {
     "name": "stderr",
     "output_type": "stream",
     "text": [
      "100%|██████████| 3134/3134 [01:02<00:00, 49.95it/s]\n",
      "100%|██████████| 783/783 [00:10<00:00, 77.95it/s]\n",
      "100%|██████████| 435/435 [00:05<00:00, 77.93it/s]\n"
     ]
    },
    {
     "name": "stdout",
     "output_type": "stream",
     "text": [
      "====> Epoch: 155 Train loss: 1338.6360\n",
      "====> Epoch: 155 Validation loss: 1429.3473\n",
      "====> Epoch: 155 Test loss: 1433.9200\n"
     ]
    },
    {
     "name": "stderr",
     "output_type": "stream",
     "text": [
      "100%|██████████| 3134/3134 [01:02<00:00, 49.90it/s]\n",
      "100%|██████████| 783/783 [00:10<00:00, 78.12it/s]\n",
      "100%|██████████| 435/435 [00:05<00:00, 78.21it/s]\n"
     ]
    },
    {
     "name": "stdout",
     "output_type": "stream",
     "text": [
      "====> Epoch: 156 Train loss: 1338.5816\n",
      "====> Epoch: 156 Validation loss: 1428.9428\n",
      "====> Epoch: 156 Test loss: 1433.3214\n"
     ]
    },
    {
     "name": "stderr",
     "output_type": "stream",
     "text": [
      "100%|██████████| 3134/3134 [01:02<00:00, 49.79it/s]\n",
      "100%|██████████| 783/783 [00:10<00:00, 77.87it/s]\n",
      "100%|██████████| 435/435 [00:05<00:00, 77.89it/s]\n"
     ]
    },
    {
     "name": "stdout",
     "output_type": "stream",
     "text": [
      "====> Epoch: 157 Train loss: 1338.7698\n",
      "====> Epoch: 157 Validation loss: 1429.3792\n",
      "====> Epoch: 157 Test loss: 1434.5048\n"
     ]
    },
    {
     "name": "stderr",
     "output_type": "stream",
     "text": [
      "100%|██████████| 3134/3134 [01:02<00:00, 49.84it/s]\n",
      "100%|██████████| 783/783 [00:10<00:00, 77.40it/s]\n",
      "100%|██████████| 435/435 [00:05<00:00, 77.66it/s]\n"
     ]
    },
    {
     "name": "stdout",
     "output_type": "stream",
     "text": [
      "====> Epoch: 158 Train loss: 1338.6019\n",
      "====> Epoch: 158 Validation loss: 1430.8024\n",
      "====> Epoch: 158 Test loss: 1435.1030\n"
     ]
    },
    {
     "name": "stderr",
     "output_type": "stream",
     "text": [
      "100%|██████████| 3134/3134 [01:35<00:00, 32.92it/s]\n",
      "100%|██████████| 783/783 [00:18<00:00, 41.32it/s]\n",
      "100%|██████████| 435/435 [00:09<00:00, 47.77it/s]\n"
     ]
    },
    {
     "name": "stdout",
     "output_type": "stream",
     "text": [
      "====> Epoch: 159 Train loss: 1338.5278\n",
      "====> Epoch: 159 Validation loss: 1430.1668\n",
      "====> Epoch: 159 Test loss: 1434.2310\n"
     ]
    },
    {
     "name": "stderr",
     "output_type": "stream",
     "text": [
      "100%|██████████| 3134/3134 [01:06<00:00, 47.40it/s]\n",
      "100%|██████████| 783/783 [00:10<00:00, 77.33it/s]\n",
      "100%|██████████| 435/435 [00:05<00:00, 77.63it/s]\n"
     ]
    },
    {
     "name": "stdout",
     "output_type": "stream",
     "text": [
      "====> Epoch: 160 Train loss: 1338.4065\n",
      "====> Epoch: 160 Validation loss: 1429.2791\n",
      "====> Epoch: 160 Test loss: 1433.1731\n"
     ]
    },
    {
     "name": "stderr",
     "output_type": "stream",
     "text": [
      "100%|██████████| 3134/3134 [01:03<00:00, 49.67it/s]\n",
      "100%|██████████| 783/783 [00:10<00:00, 77.58it/s]\n",
      "100%|██████████| 435/435 [00:05<00:00, 77.61it/s]\n"
     ]
    },
    {
     "name": "stdout",
     "output_type": "stream",
     "text": [
      "====> Epoch: 161 Train loss: 1338.7676\n",
      "====> Epoch: 161 Validation loss: 1430.1614\n",
      "====> Epoch: 161 Test loss: 1433.6178\n"
     ]
    },
    {
     "name": "stderr",
     "output_type": "stream",
     "text": [
      "100%|██████████| 3134/3134 [01:03<00:00, 49.71it/s]\n",
      "100%|██████████| 783/783 [00:10<00:00, 77.55it/s]\n",
      "100%|██████████| 435/435 [00:05<00:00, 77.70it/s]\n"
     ]
    },
    {
     "name": "stdout",
     "output_type": "stream",
     "text": [
      "====> Epoch: 162 Train loss: 1338.5940\n",
      "====> Epoch: 162 Validation loss: 1428.7030\n",
      "====> Epoch: 162 Test loss: 1433.0198\n"
     ]
    },
    {
     "name": "stderr",
     "output_type": "stream",
     "text": [
      "100%|██████████| 3134/3134 [01:03<00:00, 49.65it/s]\n",
      "100%|██████████| 783/783 [00:10<00:00, 77.32it/s]\n",
      "100%|██████████| 435/435 [00:05<00:00, 77.70it/s]\n"
     ]
    },
    {
     "name": "stdout",
     "output_type": "stream",
     "text": [
      "====> Epoch: 163 Train loss: 1338.1888\n",
      "====> Epoch: 163 Validation loss: 1428.9558\n",
      "====> Epoch: 163 Test loss: 1433.3361\n"
     ]
    },
    {
     "name": "stderr",
     "output_type": "stream",
     "text": [
      "100%|██████████| 3134/3134 [01:03<00:00, 49.65it/s]\n",
      "100%|██████████| 783/783 [00:10<00:00, 77.29it/s]\n",
      "100%|██████████| 435/435 [00:05<00:00, 77.42it/s]\n"
     ]
    },
    {
     "name": "stdout",
     "output_type": "stream",
     "text": [
      "====> Epoch: 164 Train loss: 1338.5673\n",
      "====> Epoch: 164 Validation loss: 1429.6238\n",
      "====> Epoch: 164 Test loss: 1434.1756\n"
     ]
    },
    {
     "name": "stderr",
     "output_type": "stream",
     "text": [
      "100%|██████████| 3134/3134 [01:03<00:00, 49.73it/s]\n",
      "100%|██████████| 783/783 [00:10<00:00, 77.53it/s]\n",
      "100%|██████████| 435/435 [00:05<00:00, 77.52it/s]\n"
     ]
    },
    {
     "name": "stdout",
     "output_type": "stream",
     "text": [
      "====> Epoch: 165 Train loss: 1337.9928\n",
      "====> Epoch: 165 Validation loss: 1429.3583\n",
      "====> Epoch: 165 Test loss: 1434.6089\n"
     ]
    },
    {
     "name": "stderr",
     "output_type": "stream",
     "text": [
      "100%|██████████| 3134/3134 [01:02<00:00, 49.77it/s]\n",
      "100%|██████████| 783/783 [00:10<00:00, 75.87it/s]\n",
      "100%|██████████| 435/435 [00:05<00:00, 76.94it/s]\n"
     ]
    },
    {
     "name": "stdout",
     "output_type": "stream",
     "text": [
      "====> Epoch: 166 Train loss: 1338.2273\n",
      "====> Epoch: 166 Validation loss: 1428.2793\n",
      "====> Epoch: 166 Test loss: 1432.8155\n"
     ]
    },
    {
     "name": "stderr",
     "output_type": "stream",
     "text": [
      "100%|██████████| 3134/3134 [01:03<00:00, 49.60it/s]\n",
      "100%|██████████| 783/783 [00:10<00:00, 77.54it/s]\n",
      "100%|██████████| 435/435 [00:05<00:00, 77.62it/s]\n"
     ]
    },
    {
     "name": "stdout",
     "output_type": "stream",
     "text": [
      "====> Epoch: 167 Train loss: 1338.2306\n",
      "====> Epoch: 167 Validation loss: 1429.0272\n",
      "====> Epoch: 167 Test loss: 1433.7539\n"
     ]
    },
    {
     "name": "stderr",
     "output_type": "stream",
     "text": [
      "100%|██████████| 3134/3134 [01:04<00:00, 48.56it/s]\n",
      "100%|██████████| 783/783 [00:10<00:00, 77.40it/s]\n",
      "100%|██████████| 435/435 [00:05<00:00, 77.36it/s]\n"
     ]
    },
    {
     "name": "stdout",
     "output_type": "stream",
     "text": [
      "====> Epoch: 168 Train loss: 1338.4335\n",
      "====> Epoch: 168 Validation loss: 1428.5025\n",
      "====> Epoch: 168 Test loss: 1432.7608\n"
     ]
    },
    {
     "name": "stderr",
     "output_type": "stream",
     "text": [
      "100%|██████████| 3134/3134 [01:03<00:00, 49.47it/s]\n",
      "100%|██████████| 783/783 [00:10<00:00, 77.14it/s]\n",
      "100%|██████████| 435/435 [00:05<00:00, 76.95it/s]\n"
     ]
    },
    {
     "name": "stdout",
     "output_type": "stream",
     "text": [
      "====> Epoch: 169 Train loss: 1337.7563\n",
      "====> Epoch: 169 Validation loss: 1429.2007\n",
      "====> Epoch: 169 Test loss: 1434.0486\n"
     ]
    },
    {
     "name": "stderr",
     "output_type": "stream",
     "text": [
      "100%|██████████| 3134/3134 [01:03<00:00, 49.42it/s]\n",
      "100%|██████████| 783/783 [00:10<00:00, 77.54it/s]\n",
      "100%|██████████| 435/435 [00:05<00:00, 77.58it/s]\n"
     ]
    },
    {
     "name": "stdout",
     "output_type": "stream",
     "text": [
      "====> Epoch: 170 Train loss: 1337.5870\n",
      "====> Epoch: 170 Validation loss: 1428.4340\n",
      "====> Epoch: 170 Test loss: 1433.1223\n"
     ]
    },
    {
     "name": "stderr",
     "output_type": "stream",
     "text": [
      "100%|██████████| 3134/3134 [01:03<00:00, 49.62it/s]\n",
      "100%|██████████| 783/783 [00:10<00:00, 77.40it/s]\n",
      "100%|██████████| 435/435 [00:05<00:00, 77.74it/s]\n"
     ]
    },
    {
     "name": "stdout",
     "output_type": "stream",
     "text": [
      "====> Epoch: 171 Train loss: 1338.0317\n",
      "====> Epoch: 171 Validation loss: 1428.3915\n",
      "====> Epoch: 171 Test loss: 1432.6549\n"
     ]
    },
    {
     "name": "stderr",
     "output_type": "stream",
     "text": [
      "100%|██████████| 3134/3134 [01:03<00:00, 49.43it/s]\n",
      "100%|██████████| 783/783 [00:10<00:00, 76.84it/s]\n",
      "100%|██████████| 435/435 [00:05<00:00, 77.74it/s]\n"
     ]
    },
    {
     "name": "stdout",
     "output_type": "stream",
     "text": [
      "====> Epoch: 172 Train loss: 1337.9363\n",
      "====> Epoch: 172 Validation loss: 1427.9229\n",
      "====> Epoch: 172 Test loss: 1432.3863\n"
     ]
    },
    {
     "name": "stderr",
     "output_type": "stream",
     "text": [
      "100%|██████████| 3134/3134 [01:03<00:00, 49.29it/s]\n",
      "100%|██████████| 783/783 [00:10<00:00, 77.87it/s]\n",
      "100%|██████████| 435/435 [00:05<00:00, 77.45it/s]\n"
     ]
    },
    {
     "name": "stdout",
     "output_type": "stream",
     "text": [
      "====> Epoch: 173 Train loss: 1337.5286\n",
      "====> Epoch: 173 Validation loss: 1428.1743\n",
      "====> Epoch: 173 Test loss: 1432.1190\n"
     ]
    },
    {
     "name": "stderr",
     "output_type": "stream",
     "text": [
      "100%|██████████| 3134/3134 [01:03<00:00, 49.57it/s]\n",
      "100%|██████████| 783/783 [00:10<00:00, 76.89it/s]\n",
      "100%|██████████| 435/435 [00:05<00:00, 77.12it/s]\n"
     ]
    },
    {
     "name": "stdout",
     "output_type": "stream",
     "text": [
      "====> Epoch: 174 Train loss: 1337.7336\n",
      "====> Epoch: 174 Validation loss: 1428.1008\n",
      "====> Epoch: 174 Test loss: 1432.5484\n"
     ]
    },
    {
     "name": "stderr",
     "output_type": "stream",
     "text": [
      "100%|██████████| 3134/3134 [01:03<00:00, 49.48it/s]\n",
      "100%|██████████| 783/783 [00:10<00:00, 76.75it/s]\n",
      "100%|██████████| 435/435 [00:05<00:00, 77.32it/s]\n"
     ]
    },
    {
     "name": "stdout",
     "output_type": "stream",
     "text": [
      "====> Epoch: 175 Train loss: 1337.3756\n",
      "====> Epoch: 175 Validation loss: 1429.2091\n",
      "====> Epoch: 175 Test loss: 1433.5733\n"
     ]
    },
    {
     "name": "stderr",
     "output_type": "stream",
     "text": [
      "100%|██████████| 3134/3134 [01:03<00:00, 49.52it/s]\n",
      "100%|██████████| 783/783 [00:10<00:00, 77.16it/s]\n",
      "100%|██████████| 435/435 [00:05<00:00, 77.14it/s]\n"
     ]
    },
    {
     "name": "stdout",
     "output_type": "stream",
     "text": [
      "====> Epoch: 176 Train loss: 1337.6026\n",
      "====> Epoch: 176 Validation loss: 1427.9674\n",
      "====> Epoch: 176 Test loss: 1432.5191\n"
     ]
    },
    {
     "name": "stderr",
     "output_type": "stream",
     "text": [
      "100%|██████████| 3134/3134 [01:03<00:00, 49.43it/s]\n",
      "100%|██████████| 783/783 [00:10<00:00, 75.33it/s]\n",
      "100%|██████████| 435/435 [00:05<00:00, 76.96it/s]\n"
     ]
    },
    {
     "name": "stdout",
     "output_type": "stream",
     "text": [
      "====> Epoch: 177 Train loss: 1337.2508\n",
      "====> Epoch: 177 Validation loss: 1428.7129\n",
      "====> Epoch: 177 Test loss: 1432.8167\n"
     ]
    },
    {
     "name": "stderr",
     "output_type": "stream",
     "text": [
      "100%|██████████| 3134/3134 [01:03<00:00, 49.34it/s]\n",
      "100%|██████████| 783/783 [00:10<00:00, 77.07it/s]\n",
      "100%|██████████| 435/435 [00:05<00:00, 76.78it/s]\n"
     ]
    },
    {
     "name": "stdout",
     "output_type": "stream",
     "text": [
      "====> Epoch: 178 Train loss: 1337.3998\n",
      "====> Epoch: 178 Validation loss: 1429.6927\n",
      "====> Epoch: 178 Test loss: 1434.5378\n"
     ]
    },
    {
     "name": "stderr",
     "output_type": "stream",
     "text": [
      "100%|██████████| 3134/3134 [01:03<00:00, 49.35it/s]\n",
      "100%|██████████| 783/783 [00:10<00:00, 77.28it/s]\n",
      "100%|██████████| 435/435 [00:05<00:00, 77.74it/s]\n"
     ]
    },
    {
     "name": "stdout",
     "output_type": "stream",
     "text": [
      "====> Epoch: 179 Train loss: 1337.1512\n",
      "====> Epoch: 179 Validation loss: 1427.6099\n",
      "====> Epoch: 179 Test loss: 1432.5039\n"
     ]
    },
    {
     "name": "stderr",
     "output_type": "stream",
     "text": [
      "100%|██████████| 3134/3134 [01:03<00:00, 49.57it/s]\n",
      "100%|██████████| 783/783 [00:10<00:00, 77.51it/s]\n",
      "100%|██████████| 435/435 [00:05<00:00, 77.84it/s]\n"
     ]
    },
    {
     "name": "stdout",
     "output_type": "stream",
     "text": [
      "====> Epoch: 180 Train loss: 1337.3843\n",
      "====> Epoch: 180 Validation loss: 1428.6149\n",
      "====> Epoch: 180 Test loss: 1432.7199\n"
     ]
    },
    {
     "name": "stderr",
     "output_type": "stream",
     "text": [
      "100%|██████████| 3134/3134 [01:03<00:00, 49.52it/s]\n",
      "100%|██████████| 783/783 [00:10<00:00, 77.81it/s]\n",
      "100%|██████████| 435/435 [00:05<00:00, 77.62it/s]\n"
     ]
    },
    {
     "name": "stdout",
     "output_type": "stream",
     "text": [
      "====> Epoch: 181 Train loss: 1336.8807\n",
      "====> Epoch: 181 Validation loss: 1427.7883\n",
      "====> Epoch: 181 Test loss: 1431.9084\n"
     ]
    },
    {
     "name": "stderr",
     "output_type": "stream",
     "text": [
      "100%|██████████| 3134/3134 [01:03<00:00, 49.64it/s]\n",
      "100%|██████████| 783/783 [00:10<00:00, 77.42it/s]\n",
      "100%|██████████| 435/435 [00:05<00:00, 77.59it/s]\n"
     ]
    },
    {
     "name": "stdout",
     "output_type": "stream",
     "text": [
      "====> Epoch: 182 Train loss: 1337.2018\n",
      "====> Epoch: 182 Validation loss: 1428.0756\n",
      "====> Epoch: 182 Test loss: 1433.1301\n"
     ]
    },
    {
     "name": "stderr",
     "output_type": "stream",
     "text": [
      "100%|██████████| 3134/3134 [01:03<00:00, 49.53it/s]\n",
      "100%|██████████| 783/783 [00:10<00:00, 77.33it/s]\n",
      "100%|██████████| 435/435 [00:05<00:00, 77.48it/s]\n"
     ]
    },
    {
     "name": "stdout",
     "output_type": "stream",
     "text": [
      "====> Epoch: 183 Train loss: 1337.2137\n",
      "====> Epoch: 183 Validation loss: 1428.1074\n",
      "====> Epoch: 183 Test loss: 1432.4853\n"
     ]
    },
    {
     "name": "stderr",
     "output_type": "stream",
     "text": [
      "100%|██████████| 3134/3134 [01:03<00:00, 49.62it/s]\n",
      "100%|██████████| 783/783 [00:10<00:00, 77.44it/s]\n",
      "100%|██████████| 435/435 [00:05<00:00, 77.67it/s]\n"
     ]
    },
    {
     "name": "stdout",
     "output_type": "stream",
     "text": [
      "====> Epoch: 184 Train loss: 1337.0959\n",
      "====> Epoch: 184 Validation loss: 1427.1840\n",
      "====> Epoch: 184 Test loss: 1431.7315\n"
     ]
    },
    {
     "name": "stderr",
     "output_type": "stream",
     "text": [
      "100%|██████████| 3134/3134 [01:03<00:00, 49.74it/s]\n",
      "100%|██████████| 783/783 [00:10<00:00, 77.90it/s]\n",
      "100%|██████████| 435/435 [00:05<00:00, 76.54it/s]\n"
     ]
    },
    {
     "name": "stdout",
     "output_type": "stream",
     "text": [
      "====> Epoch: 185 Train loss: 1336.4474\n",
      "====> Epoch: 185 Validation loss: 1427.7755\n",
      "====> Epoch: 185 Test loss: 1431.7144\n"
     ]
    },
    {
     "name": "stderr",
     "output_type": "stream",
     "text": [
      "100%|██████████| 3134/3134 [01:03<00:00, 49.56it/s]\n",
      "100%|██████████| 783/783 [00:10<00:00, 77.76it/s]\n",
      "100%|██████████| 435/435 [00:05<00:00, 77.81it/s]\n"
     ]
    },
    {
     "name": "stdout",
     "output_type": "stream",
     "text": [
      "====> Epoch: 186 Train loss: 1337.8865\n",
      "====> Epoch: 186 Validation loss: 1427.5173\n",
      "====> Epoch: 186 Test loss: 1432.2192\n"
     ]
    },
    {
     "name": "stderr",
     "output_type": "stream",
     "text": [
      "100%|██████████| 3134/3134 [01:03<00:00, 49.64it/s]\n",
      "100%|██████████| 783/783 [00:10<00:00, 77.63it/s]\n",
      "100%|██████████| 435/435 [00:05<00:00, 77.52it/s]\n"
     ]
    },
    {
     "name": "stdout",
     "output_type": "stream",
     "text": [
      "====> Epoch: 187 Train loss: 1337.2741\n",
      "====> Epoch: 187 Validation loss: 1429.2547\n",
      "====> Epoch: 187 Test loss: 1433.7835\n"
     ]
    },
    {
     "name": "stderr",
     "output_type": "stream",
     "text": [
      "100%|██████████| 3134/3134 [01:03<00:00, 49.67it/s]\n",
      "100%|██████████| 783/783 [00:10<00:00, 75.45it/s]\n",
      "100%|██████████| 435/435 [00:05<00:00, 77.29it/s]\n"
     ]
    },
    {
     "name": "stdout",
     "output_type": "stream",
     "text": [
      "====> Epoch: 188 Train loss: 1336.9834\n",
      "====> Epoch: 188 Validation loss: 1427.5678\n",
      "====> Epoch: 188 Test loss: 1432.0349\n"
     ]
    },
    {
     "name": "stderr",
     "output_type": "stream",
     "text": [
      "100%|██████████| 3134/3134 [01:03<00:00, 49.65it/s]\n",
      "100%|██████████| 783/783 [00:10<00:00, 77.30it/s]\n",
      "100%|██████████| 435/435 [00:05<00:00, 77.66it/s]\n"
     ]
    },
    {
     "name": "stdout",
     "output_type": "stream",
     "text": [
      "====> Epoch: 189 Train loss: 1336.5436\n",
      "====> Epoch: 189 Validation loss: 1426.7738\n",
      "====> Epoch: 189 Test loss: 1431.4064\n"
     ]
    },
    {
     "name": "stderr",
     "output_type": "stream",
     "text": [
      "100%|██████████| 3134/3134 [01:02<00:00, 49.85it/s]\n",
      "100%|██████████| 783/783 [00:10<00:00, 77.95it/s]\n",
      "100%|██████████| 435/435 [00:05<00:00, 78.11it/s]\n"
     ]
    },
    {
     "name": "stdout",
     "output_type": "stream",
     "text": [
      "====> Epoch: 190 Train loss: 1336.3745\n",
      "====> Epoch: 190 Validation loss: 1427.2207\n",
      "====> Epoch: 190 Test loss: 1431.4938\n"
     ]
    },
    {
     "name": "stderr",
     "output_type": "stream",
     "text": [
      "100%|██████████| 3134/3134 [01:02<00:00, 49.97it/s]\n",
      "100%|██████████| 783/783 [00:10<00:00, 77.72it/s]\n",
      "100%|██████████| 435/435 [00:05<00:00, 77.89it/s]\n"
     ]
    },
    {
     "name": "stdout",
     "output_type": "stream",
     "text": [
      "====> Epoch: 191 Train loss: 1336.5583\n",
      "====> Epoch: 191 Validation loss: 1427.9587\n",
      "====> Epoch: 191 Test loss: 1432.6623\n"
     ]
    },
    {
     "name": "stderr",
     "output_type": "stream",
     "text": [
      "100%|██████████| 3134/3134 [01:02<00:00, 49.93it/s]\n",
      "100%|██████████| 783/783 [00:10<00:00, 77.68it/s]\n",
      "100%|██████████| 435/435 [00:05<00:00, 77.43it/s]\n"
     ]
    },
    {
     "name": "stdout",
     "output_type": "stream",
     "text": [
      "====> Epoch: 192 Train loss: 1336.4334\n",
      "====> Epoch: 192 Validation loss: 1426.5943\n",
      "====> Epoch: 192 Test loss: 1431.4542\n"
     ]
    },
    {
     "name": "stderr",
     "output_type": "stream",
     "text": [
      "100%|██████████| 3134/3134 [01:03<00:00, 49.68it/s]\n",
      "100%|██████████| 783/783 [00:10<00:00, 77.86it/s]\n",
      "100%|██████████| 435/435 [00:05<00:00, 77.68it/s]\n"
     ]
    },
    {
     "name": "stdout",
     "output_type": "stream",
     "text": [
      "====> Epoch: 193 Train loss: 1336.1898\n",
      "====> Epoch: 193 Validation loss: 1428.8150\n",
      "====> Epoch: 193 Test loss: 1432.9325\n"
     ]
    },
    {
     "name": "stderr",
     "output_type": "stream",
     "text": [
      "100%|██████████| 3134/3134 [01:02<00:00, 49.81it/s]\n",
      "100%|██████████| 783/783 [00:10<00:00, 77.01it/s]\n",
      "100%|██████████| 435/435 [00:05<00:00, 77.54it/s]\n"
     ]
    },
    {
     "name": "stdout",
     "output_type": "stream",
     "text": [
      "====> Epoch: 194 Train loss: 1337.0398\n",
      "====> Epoch: 194 Validation loss: 1427.2179\n",
      "====> Epoch: 194 Test loss: 1431.5579\n"
     ]
    },
    {
     "name": "stderr",
     "output_type": "stream",
     "text": [
      "100%|██████████| 3134/3134 [01:03<00:00, 49.69it/s]\n",
      "100%|██████████| 783/783 [00:10<00:00, 76.89it/s]\n",
      "100%|██████████| 435/435 [00:05<00:00, 77.63it/s]\n"
     ]
    },
    {
     "name": "stdout",
     "output_type": "stream",
     "text": [
      "====> Epoch: 195 Train loss: 1337.1040\n",
      "====> Epoch: 195 Validation loss: 1427.1850\n",
      "====> Epoch: 195 Test loss: 1431.7460\n"
     ]
    },
    {
     "name": "stderr",
     "output_type": "stream",
     "text": [
      "100%|██████████| 3134/3134 [01:03<00:00, 49.54it/s]\n",
      "100%|██████████| 783/783 [00:10<00:00, 77.55it/s]\n",
      "100%|██████████| 435/435 [00:05<00:00, 77.98it/s]\n"
     ]
    },
    {
     "name": "stdout",
     "output_type": "stream",
     "text": [
      "====> Epoch: 196 Train loss: 1336.1119\n",
      "====> Epoch: 196 Validation loss: 1426.8456\n",
      "====> Epoch: 196 Test loss: 1430.8618\n"
     ]
    },
    {
     "name": "stderr",
     "output_type": "stream",
     "text": [
      "100%|██████████| 3134/3134 [01:03<00:00, 49.50it/s]\n",
      "100%|██████████| 783/783 [00:10<00:00, 76.67it/s]\n",
      "100%|██████████| 435/435 [00:05<00:00, 76.75it/s]\n"
     ]
    },
    {
     "name": "stdout",
     "output_type": "stream",
     "text": [
      "====> Epoch: 197 Train loss: 1336.5989\n",
      "====> Epoch: 197 Validation loss: 1427.2206\n",
      "====> Epoch: 197 Test loss: 1431.2117\n"
     ]
    },
    {
     "name": "stderr",
     "output_type": "stream",
     "text": [
      "100%|██████████| 3134/3134 [01:03<00:00, 49.13it/s]\n",
      "100%|██████████| 783/783 [00:10<00:00, 77.08it/s]\n",
      "100%|██████████| 435/435 [00:05<00:00, 77.50it/s]\n"
     ]
    },
    {
     "name": "stdout",
     "output_type": "stream",
     "text": [
      "====> Epoch: 198 Train loss: 1335.8873\n",
      "====> Epoch: 198 Validation loss: 1427.4167\n",
      "====> Epoch: 198 Test loss: 1430.9615\n"
     ]
    },
    {
     "name": "stderr",
     "output_type": "stream",
     "text": [
      "100%|██████████| 3134/3134 [01:03<00:00, 49.49it/s]\n",
      "100%|██████████| 783/783 [00:10<00:00, 77.63it/s]\n",
      "100%|██████████| 435/435 [00:05<00:00, 77.69it/s]\n"
     ]
    },
    {
     "name": "stdout",
     "output_type": "stream",
     "text": [
      "====> Epoch: 199 Train loss: 1336.2980\n",
      "====> Epoch: 199 Validation loss: 1427.0158\n",
      "====> Epoch: 199 Test loss: 1431.9913\n"
     ]
    },
    {
     "name": "stderr",
     "output_type": "stream",
     "text": [
      "100%|██████████| 3134/3134 [01:03<00:00, 49.64it/s]\n",
      "100%|██████████| 783/783 [00:10<00:00, 77.49it/s]\n",
      "100%|██████████| 435/435 [00:05<00:00, 77.13it/s]"
     ]
    },
    {
     "name": "stdout",
     "output_type": "stream",
     "text": [
      "====> Epoch: 200 Train loss: 1335.3601\n",
      "====> Epoch: 200 Validation loss: 1427.7657\n",
      "====> Epoch: 200 Test loss: 1432.6984\n"
     ]
    },
    {
     "name": "stderr",
     "output_type": "stream",
     "text": [
      "\n"
     ]
    }
   ],
   "source": [
    "loss_train, loss_test, loss_val = [], [], []\n",
    "#traing loop\n",
    "def train():\n",
    "    model.train()\n",
    "    train_loss = 0\n",
    "    for (data, _) in tqdm(train_dataloader):\n",
    "        data = data.cpu().numpy()\n",
    "        data = (data - data.mean())/data.std()\n",
    "        data = torch.from_numpy(data)\n",
    "        data = torch.clamp(data, 0, 1)\n",
    "        data = data.to(device)\n",
    "        optimizer.zero_grad()\n",
    "        recon_batch, mu, logvar = model(data)\n",
    "        loss = loss_function(recon_batch, data, mu, logvar)\n",
    "        loss.backward()\n",
    "        train_loss += loss.item()\n",
    "        optimizer.step()\n",
    "    return train_loss/len(train_dataloader.dataset)\n",
    "    \n",
    "    \n",
    "#validation loop\n",
    "def validation():\n",
    "    model.eval()\n",
    "    val_loss = 0\n",
    "    for (data, _) in tqdm(val_dataloader):\n",
    "        data = data.cpu().numpy()\n",
    "        data = (data - data.mean())/data.std()\n",
    "        data = torch.from_numpy(data)\n",
    "        data = torch.clamp(data, 0, 1)\n",
    "        data = data.to(device)\n",
    "        recon_batch, mu, logvar = model(data)\n",
    "        loss = loss_function(recon_batch, data, mu, logvar)\n",
    "        val_loss += loss.item()\n",
    "    return val_loss/len(val_dataloader.dataset)\n",
    "\n",
    "    \n",
    "#validation loop\n",
    "def test():\n",
    "    model.eval()\n",
    "    test_loss = 0\n",
    "    for (data, _) in tqdm(test_dataloader):\n",
    "        data = data.cpu().numpy()\n",
    "        data = (data - data.mean())/data.std()\n",
    "        data = torch.from_numpy(data)\n",
    "        data = torch.clamp(data, 0, 1)\n",
    "        data = data.to(device)\n",
    "        recon_batch, mu, logvar = model(data)\n",
    "        loss = loss_function(recon_batch, data, mu, logvar)\n",
    "        test_loss += loss.item()\n",
    "    return test_loss/len(test_dataloader.dataset)\n",
    "\n",
    "#training loop\n",
    "for epoch in range(200):\n",
    "    train_loss = train()\n",
    "    val_loss = validation()\n",
    "    test_loss = test()\n",
    "    #scheduler.step()\n",
    "    print('====> Epoch: {} Train loss: {:.4f}'.format(\n",
    "          epoch+1, train_loss))\n",
    "    print('====> Epoch: {} Validation loss: {:.4f}'.format(\n",
    "          epoch+1, val_loss))\n",
    "    print('====> Epoch: {} Test loss: {:.4f}'.format(\n",
    "            epoch+1, test_loss))\n",
    "    loss_train.append(train_loss)\n",
    "    loss_test.append(test_loss)\n",
    "    loss_val.append(val_loss)"
   ]
  },
  {
   "cell_type": "code",
   "execution_count": 296,
   "metadata": {},
   "outputs": [
    {
     "data": {
      "image/png": "[encoded data removed]",
      "text/plain": [
       "<Figure size 640x480 with 1 Axes>"
      ]
     },
     "metadata": {},
     "output_type": "display_data"
    }
   ],
   "source": [
    "#plot the loss with respect to the epochs\n",
    "plt.plot(loss_train, label='Train')\n",
    "plt.plot(loss_test, label='Test')\n",
    "plt.xlabel('Epochs')\n",
    "plt.ylabel('Loss')\n",
    "plt.legend()\n",
    "plt.show()\n"
   ]
  },
  {
   "cell_type": "code",
   "execution_count": 301,
   "metadata": {},
   "outputs": [],
   "source": [
    "#plot reconstructed images \n",
    "def plot_reconstructions(model, n_images=5):\n",
    "    model.eval()\n",
    "    with torch.no_grad():\n",
    "        data, _ = next(iter(test_dataloader))\n",
    "        data = data.cpu().numpy()\n",
    "        data = (data - data.mean())/data.std()\n",
    "        data = torch.from_numpy(data)\n",
    "        data = torch.clamp(data, 0, 1)\n",
    "        data = data.to(device)\n",
    "        recon, _, _ = model(data)\n",
    "        recon = recon.cpu()\n",
    "    fig, axes = plt.subplots(nrows=2, ncols=n_images, sharex=True, sharey=True, figsize=(10,4))\n",
    "    for images, row in zip([data, recon], axes):\n",
    "        for img, ax in zip(images, row):\n",
    "            img = img.cpu().numpy()\n",
    "            ax.imshow(img, cmap='gray')\n",
    "            #ax.get_xaxis().set_visible(False)\n",
    "            #ax.get_yaxis().set_visible(False)\n",
    "    fig.tight_layout(pad=0.1)\n",
    "    return recon\n"
   ]
  },
  {
   "cell_type": "code",
   "execution_count": 302,
   "metadata": {},
   "outputs": [
    {
     "data": {
      "image/png": "[encoded data removed]",
      "text/plain": [
       "<Figure size 1000x400 with 10 Axes>"
      ]
     },
     "metadata": {},
     "output_type": "display_data"
    }
   ],
   "source": [
    "k = plot_reconstructions(model)"
   ]
  }
 ],
 "metadata": {
  "kernelspec": {
   "display_name": "torch_pip",
   "language": "python",
   "name": "python3"
  },
  "language_info": {
   "codemirror_mode": {
    "name": "ipython",
    "version": 3
   },
   "file_extension": ".py",
   "mimetype": "text/x-python",
   "name": "python",
   "nbconvert_exporter": "python",
   "pygments_lexer": "ipython3",
   "version": "3.7.3"
  },
  "orig_nbformat": 4,
  "vscode": {
   "interpreter": {
    "hash": "314704c3bd3bb08f7b315508ce9b4bbd3fbe8b261808a767fc7ce23daafc3950"
   }
  }
 },
 "nbformat": 4,
 "nbformat_minor": 2
}
