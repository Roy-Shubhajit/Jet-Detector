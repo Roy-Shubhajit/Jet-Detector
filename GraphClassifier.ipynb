{
 "cells": [
  {
   "cell_type": "code",
   "execution_count": null,
   "metadata": {},
   "outputs": [],
   "source": [
    "# import packages\n",
    "import h5py\n",
    "import numpy as np\n",
    "import matplotlib.pyplot as plt\n",
    "import torch\n",
    "import torch.nn as nn\n",
    "import torch.nn.functional as F\n",
    "import torch.optim as optim\n",
    "from torch.autograd import Variable\n",
    "from torchvision import transforms, utils\n",
    "from torch.utils.data import TensorDataset\n",
    "from tqdm import tqdm\n",
    "from torch_geometric.nn import TransformerConv, global_max_pool, GATv2Conv, PointNetConv, ClusterGCNConv, PointTransformerConv, global_mean_pool\n",
    "from torch_geometric.data import Data, Batch\n",
    "from torch_geometric.loader import DataLoader\n",
    "import time\n",
    "import torch\n",
    "from torch_geometric.data import Data, InMemoryDataset, download_url\n",
    "import torch_geometric.transforms as T\n",
    "import networkx as nx\n",
    "from torch_cluster import knn_graph\n",
    "from torch_geometric.utils import from_networkx\n",
    "\n",
    "from torch.utils.tensorboard import SummaryWriter\n",
    "writer = SummaryWriter()\n"
   ]
  },
  {
   "cell_type": "code",
   "execution_count": 2,
   "metadata": {},
   "outputs": [],
   "source": [
    "device = torch.device('cuda' if torch.cuda.is_available() else 'cpu')\n"
   ]
  },
  {
   "attachments": {},
   "cell_type": "markdown",
   "metadata": {},
   "source": [
    "**Helper and Metric**\n"
   ]
  },
  {
   "cell_type": "code",
   "execution_count": 9,
   "metadata": {},
   "outputs": [],
   "source": [
    "# Dataset class\n",
    "import torch\n",
    "from torch_geometric.data import Data, InMemoryDataset, download_url\n",
    "import torch_geometric.transforms as T\n",
    "from torch_geometric.loader import DataLoader\n",
    "\n",
    "class Quark_Gluon_Dataset(InMemoryDataset):\n",
    "    def __init__(self, root, transform=None, pre_transform=None):\n",
    "        super(Quark_Gluon_Dataset, self).__init__(root, transform, pre_transform)\n",
    "        self.data, self.slices = torch.load(self.processed_paths[0])\n",
    "\n",
    "    @property\n",
    "    def raw_file_names(self):\n",
    "        return []\n",
    "\n",
    "    @property\n",
    "    def processed_file_names(self):\n",
    "        return ['data.pt']\n",
    "\n",
    "    def download(self):\n",
    "        pass\n",
    "\n",
    "    def create_graph(self, image):\n",
    "        G = nx.Graph()\n",
    "        for i in range(image.shape[0]):\n",
    "            for j in range(image.shape[1]):\n",
    "                if image[i][j].any() > 0:\n",
    "                    #add node (i,j) to graph with attribute 'x' = image[i][j] and pos = (i,j)\n",
    "                    G.add_node((i,j), x=image[i][j], pos=(i,j,0))\n",
    "                    if i > 0 and image[i-1][j].any() > 0:\n",
    "                        G.add_edge((i,j), (i-1,j))\n",
    "                    if j > 0 and image[i][j-1].any() > 0:\n",
    "                        G.add_edge((i,j), (i,j-1))\n",
    "                    if i < image.shape[0]-1 and image[i+1][j].any() > 0:\n",
    "                        G.add_edge((i,j), (i+1,j))\n",
    "                    if j < image.shape[1]-1 and image[i][j+1].any() > 0:\n",
    "                        G.add_edge((i,j), (i,j+1))\n",
    "                    if i > 0 and j > 0 and image[i-1][j-1].any() > 0:\n",
    "                        G.add_edge((i,j), (i-1,j-1))\n",
    "                    if i < image.shape[0]-1 and j < image.shape[1]-1 and image[i+1][j+1].any() > 0:\n",
    "                        G.add_edge((i,j), (i+1,j+1))\n",
    "                    if i > 0 and j < image.shape[1]-1 and image[i-1][j+1].any() > 0:\n",
    "                        G.add_edge((i,j), (i-1,j+1))\n",
    "                    if i < image.shape[0]-1 and j > 0 and image[i+1][j-1].any() > 0:\n",
    "                        G.add_edge((i,j), (i+1,j-1))\n",
    "\n",
    "        return G\n",
    "\n",
    "    def process(self):\n",
    "        f = h5py.File('/hdfs1/Data/Shrutimoy/quark-gluon_data-set_n139306.hdf5', 'r')\n",
    "        X_jets = np.asarray(f['X_jets'])\n",
    "        m0 = np.asarray(f['m0'])\n",
    "        pt = np.asarray(f['pt'])\n",
    "        y = np.asarray(f['y'])\n",
    "        data_list = []\n",
    "        for i in tqdm(range(len(X_jets))):\n",
    "            G = self.create_graph(X_jets[i])\n",
    "            data = from_networkx(G)\n",
    "            data.y = torch.tensor(y[i], dtype=torch.long)\n",
    "            data.m = torch.tensor(m0[i], dtype=torch.float)\n",
    "            data.p = torch.tensor(pt[i], dtype=torch.float)\n",
    "            data_list.append(data)\n",
    "\n",
    "        data, slices = self.collate(data_list)\n",
    "        torch.save((data, slices), self.processed_paths[0])\n"
   ]
  },
  {
   "cell_type": "code",
   "execution_count": 4,
   "metadata": {},
   "outputs": [],
   "source": [
    "def train_test_split(X, y, test_size):\n",
    "    dataset_size = len(X)\n",
    "    train_data_X = X[:int(dataset_size*(1-test_size))]\n",
    "    test_data_X = X[int(dataset_size*(1-test_size)):]\n",
    "    train_data_y = y[:int(dataset_size*(1-test_size))]\n",
    "    test_data_y = y[int(dataset_size*(1-test_size)):]\n",
    "    return train_data_X, test_data_X, train_data_y, test_data_y\n"
   ]
  },
  {
   "cell_type": "code",
   "execution_count": 5,
   "metadata": {},
   "outputs": [],
   "source": [
    "def accuracy(output, labels):\n",
    "    preds = output.max(1)[1].type_as(labels)\n",
    "    correct = preds.eq(labels).double()\n",
    "    correct = correct.sum()\n",
    "    return correct / len(labels)\n",
    "\n",
    "\n",
    "class AverageMeter(object):\n",
    "    \"\"\"Computes and stores the average and current value\"\"\"\n",
    "\n",
    "    def __init__(self):\n",
    "        self.reset()\n",
    "\n",
    "    def reset(self):\n",
    "        self.val = 0\n",
    "        self.avg = 0\n",
    "        self.sum = 0\n",
    "        self.count = 0\n",
    "\n",
    "    def update(self, val, n=1):\n",
    "        self.val = val\n",
    "        self.sum += val * n\n",
    "        self.count += n\n",
    "        self.avg = self.sum / self.count\n"
   ]
  },
  {
   "attachments": {},
   "cell_type": "markdown",
   "metadata": {},
   "source": [
    "**Model**\n"
   ]
  },
  {
   "cell_type": "code",
   "execution_count": 10,
   "metadata": {},
   "outputs": [],
   "source": [
    "# Define the model\n",
    "class GraphClassifier(nn.Module):\n",
    "    def __init__(self, input_dim, hidden_dim, output_dim, num_layers, dropout):\n",
    "        super(GraphClassifier, self).__init__()\n",
    "        self.input_dim = input_dim\n",
    "        self.hidden_dim = hidden_dim\n",
    "        self.output_dim = output_dim\n",
    "        self.num_layers = num_layers\n",
    "        self.dropout = dropout\n",
    "        self.convs_trans = nn.ModuleList()\n",
    "        self.convs_point = nn.ModuleList()\n",
    "        self.convs_attn = nn.ModuleList()\n",
    "        self.fc1 = nn.ModuleList()\n",
    "        self.batch_norm = nn.ModuleList()\n",
    "        for i in range(num_layers):\n",
    "            self.convs_trans.append(GATv2Conv(hidden_dim*(3**i), hidden_dim*(3**i), add_self_loops=True))\n",
    "            self.convs_point.append(PointTransformerConv(hidden_dim*(3**i), hidden_dim*(3**i),  add_self_loops=True))\n",
    "            self.convs_attn.append(ClusterGCNConv(hidden_dim*(3**i), hidden_dim*(3**i), add_self_loops=True))\n",
    "            self.batch_norm.append(nn.BatchNorm1d(hidden_dim*(3**(i+1))))\n",
    "            self.fc1.append(nn.Linear(hidden_dim*(3**(i+1)), hidden_dim*(3**(i+1))))\n",
    "        #self.fc1 = nn.Linear(hidden_dim*3, hidden_dim)\n",
    "        self.fc0 = nn.Linear(input_dim, hidden_dim)\n",
    "        self.dropout = nn.Dropout(dropout)\n",
    "        self.batch_norm1 = nn.BatchNorm1d(hidden_dim*(3**num_layers)+2)\n",
    "        self.fc2 = nn.Linear(hidden_dim*(3**num_layers)+2, hidden_dim*(3**num_layers)+2)\n",
    "        self.fc3 = nn.Linear(hidden_dim*(3**num_layers)+2, output_dim)\n",
    "        self.softmax = nn.Softmax(dim=1)\n",
    "\n",
    "    def forward(self, x, edge_index, pos, batch, m0, pt):\n",
    "        pos = pos.float()\n",
    "        x = self.fc0(x)\n",
    "        for i in range(self.num_layers):\n",
    "            x1 = self.convs_point[i](x, pos, edge_index)\n",
    "            x1 = F.elu(x1)\n",
    "            x2 = self.convs_attn[i](x, edge_index)\n",
    "            x2 = F.elu(x2)\n",
    "            x3 = self.convs_trans[i](x, edge_index)\n",
    "            x3 = F.elu(x3)\n",
    "            x = torch.cat([x1, x2, x3], dim=1)\n",
    "            x = self.batch_norm[i](x)\n",
    "            x = self.fc1[i](x)\n",
    "        x = global_mean_pool(x, batch)\n",
    "        m0 = m0.reshape(-1, 1)\n",
    "        pt = pt.reshape(-1, 1)\n",
    "        x = torch.cat([x, m0, pt], dim=1)\n",
    "        x = self.fc2(x)\n",
    "        x = F.elu(x)\n",
    "        x = self.batch_norm1(x)\n",
    "        x = self.fc3(x)\n",
    "        return self.softmax(x)\n"
   ]
  },
  {
   "attachments": {},
   "cell_type": "markdown",
   "metadata": {},
   "source": [
    "**Main**\n"
   ]
  },
  {
   "cell_type": "code",
   "execution_count": 11,
   "metadata": {},
   "outputs": [],
   "source": [
    "dataset = Quark_Gluon_Dataset(root='/hdfs1/Data/Shubhajit/Quark_Gluon_Data_1/')\n"
   ]
  },
  {
   "cell_type": "code",
   "execution_count": 12,
   "metadata": {},
   "outputs": [],
   "source": [
    "# split dataset into train, validation and test\n",
    "train_dataset = dataset[:int(0.8*len(dataset))]\n",
    "val_dataset = dataset[int(0.8*len(dataset)):int(0.9*len(dataset))]\n",
    "test_dataset = dataset[int(0.9*len(dataset)):]\n",
    "\n",
    "# load the dataset\n",
    "train_loader = DataLoader(train_dataset, batch_size=16, shuffle=True)\n",
    "val_loader = DataLoader(val_dataset, batch_size=16, shuffle=False)\n",
    "test_loader = DataLoader(test_dataset, batch_size=16, shuffle=False)\n"
   ]
  },
  {
   "cell_type": "code",
   "execution_count": 13,
   "metadata": {},
   "outputs": [],
   "source": [
    "#initialize the model\n",
    "model = GraphClassifier(3, 16,2,3, 0).to(device)\n",
    "optimizer = optim.AdamW(model.parameters(), lr=0.001)\n",
    "scheduler = optim.lr_scheduler.StepLR(optimizer, step_size=10, gamma=0.50)"
   ]
  },
  {
   "cell_type": "code",
   "execution_count": 14,
   "metadata": {},
   "outputs": [
    {
     "data": {
      "text/plain": [
       "<bound method Module.parameters of GraphClassifier(\n",
       "  (convs_trans): ModuleList(\n",
       "    (0): GATv2Conv(16, 16, heads=1)\n",
       "    (1): GATv2Conv(48, 48, heads=1)\n",
       "    (2): GATv2Conv(144, 144, heads=1)\n",
       "  )\n",
       "  (convs_point): ModuleList(\n",
       "    (0): PointTransformerConv(16, 16)\n",
       "    (1): PointTransformerConv(48, 48)\n",
       "    (2): PointTransformerConv(144, 144)\n",
       "  )\n",
       "  (convs_attn): ModuleList(\n",
       "    (0): ClusterGCNConv(16, 16, diag_lambda=0.0)\n",
       "    (1): ClusterGCNConv(48, 48, diag_lambda=0.0)\n",
       "    (2): ClusterGCNConv(144, 144, diag_lambda=0.0)\n",
       "  )\n",
       "  (fc1): ModuleList(\n",
       "    (0): Linear(in_features=48, out_features=48, bias=True)\n",
       "    (1): Linear(in_features=144, out_features=144, bias=True)\n",
       "    (2): Linear(in_features=432, out_features=432, bias=True)\n",
       "  )\n",
       "  (batch_norm): ModuleList(\n",
       "    (0): BatchNorm1d(48, eps=1e-05, momentum=0.1, affine=True, track_running_stats=True)\n",
       "    (1): BatchNorm1d(144, eps=1e-05, momentum=0.1, affine=True, track_running_stats=True)\n",
       "    (2): BatchNorm1d(432, eps=1e-05, momentum=0.1, affine=True, track_running_stats=True)\n",
       "  )\n",
       "  (fc0): Linear(in_features=3, out_features=16, bias=True)\n",
       "  (dropout): Dropout(p=0, inplace=False)\n",
       "  (batch_norm1): BatchNorm1d(434, eps=1e-05, momentum=0.1, affine=True, track_running_stats=True)\n",
       "  (fc2): Linear(in_features=434, out_features=434, bias=True)\n",
       "  (fc3): Linear(in_features=434, out_features=2, bias=True)\n",
       "  (softmax): Softmax(dim=1)\n",
       ")>"
      ]
     },
     "execution_count": 14,
     "metadata": {},
     "output_type": "execute_result"
    }
   ],
   "source": [
    "model.parameters"
   ]
  },
  {
   "cell_type": "code",
   "execution_count": 15,
   "metadata": {},
   "outputs": [],
   "source": [
    "# training loop\n",
    "def train(data):\n",
    "    optimizer.zero_grad()\n",
    "    data = data.to(device)\n",
    "    output = model(data.x, data.edge_index, data.pos, data.batch, data.m, data.p)\n",
    "    loss_train = F.cross_entropy(output, data.y)\n",
    "    loss_train.backward()\n",
    "    optimizer.step()\n",
    "    return output, loss_train\n",
    "\n",
    "\n",
    "def test(data):\n",
    "    data = data.to(device)\n",
    "    output = model(data.x, data.edge_index, data.pos, data.batch, data.m, data.p)\n",
    "    loss_test = F.cross_entropy(output, data.y)\n",
    "    return output, loss_test\n"
   ]
  },
  {
   "cell_type": "code",
   "execution_count": 16,
   "metadata": {},
   "outputs": [
    {
     "name": "stderr",
     "output_type": "stream",
     "text": [
      "100%|██████████| 6966/6966 [05:17<00:00, 21.93it/s]\n",
      "100%|██████████| 871/871 [00:18<00:00, 46.76it/s]\n",
      "100%|██████████| 871/871 [00:17<00:00, 48.43it/s]\n"
     ]
    },
    {
     "name": "stdout",
     "output_type": "stream",
     "text": [
      "epoch:001 train_loss=0.58725 train_acc=0.70798 val_acc=0.57333 test_acc=0.57419 time=354.22800 \n"
     ]
    },
    {
     "name": "stderr",
     "output_type": "stream",
     "text": [
      "100%|██████████| 6966/6966 [04:53<00:00, 23.76it/s]\n",
      "100%|██████████| 871/871 [00:15<00:00, 56.19it/s]\n",
      "100%|██████████| 871/871 [00:12<00:00, 67.93it/s]\n"
     ]
    },
    {
     "name": "stdout",
     "output_type": "stream",
     "text": [
      "epoch:002 train_loss=0.58253 train_acc=0.71266 val_acc=0.68430 test_acc=0.67913 time=321.55234 \n"
     ]
    },
    {
     "name": "stderr",
     "output_type": "stream",
     "text": [
      "100%|██████████| 6966/6966 [04:59<00:00, 23.24it/s]\n",
      "100%|██████████| 871/871 [00:15<00:00, 56.63it/s]\n",
      "100%|██████████| 871/871 [00:13<00:00, 65.65it/s]\n"
     ]
    },
    {
     "name": "stdout",
     "output_type": "stream",
     "text": [
      "epoch:003 train_loss=0.57949 train_acc=0.71622 val_acc=0.49185 test_acc=0.48941 time=328.39590 \n"
     ]
    },
    {
     "name": "stderr",
     "output_type": "stream",
     "text": [
      "100%|██████████| 6966/6966 [05:06<00:00, 22.74it/s]\n",
      "100%|██████████| 871/871 [00:15<00:00, 57.16it/s]\n",
      "100%|██████████| 871/871 [00:15<00:00, 55.13it/s]\n"
     ]
    },
    {
     "name": "stdout",
     "output_type": "stream",
     "text": [
      "epoch:004 train_loss=0.57976 train_acc=0.71579 val_acc=0.50039 test_acc=0.50197 time=337.42938 \n"
     ]
    },
    {
     "name": "stderr",
     "output_type": "stream",
     "text": [
      "100%|██████████| 6966/6966 [04:55<00:00, 23.55it/s]\n",
      "100%|██████████| 871/871 [00:14<00:00, 59.35it/s]\n",
      "100%|██████████| 871/871 [00:13<00:00, 63.90it/s]\n"
     ]
    },
    {
     "name": "stdout",
     "output_type": "stream",
     "text": [
      "epoch:005 train_loss=0.57855 train_acc=0.71638 val_acc=0.73182 test_acc=0.72730 time=324.08411 \n"
     ]
    },
    {
     "name": "stderr",
     "output_type": "stream",
     "text": [
      "100%|██████████| 6966/6966 [05:09<00:00, 22.48it/s]\n",
      "100%|██████████| 871/871 [00:14<00:00, 60.00it/s]\n",
      "100%|██████████| 871/871 [00:14<00:00, 58.65it/s]\n"
     ]
    },
    {
     "name": "stdout",
     "output_type": "stream",
     "text": [
      "epoch:006 train_loss=0.57730 train_acc=0.71793 val_acc=0.52459 test_acc=0.51533 time=339.19987 \n"
     ]
    },
    {
     "name": "stderr",
     "output_type": "stream",
     "text": [
      "100%|██████████| 6966/6966 [05:09<00:00, 22.48it/s]\n",
      "100%|██████████| 871/871 [00:16<00:00, 54.26it/s]\n",
      "100%|██████████| 871/871 [00:14<00:00, 60.34it/s]\n"
     ]
    },
    {
     "name": "stdout",
     "output_type": "stream",
     "text": [
      "epoch:007 train_loss=0.57649 train_acc=0.72001 val_acc=0.49537 test_acc=0.49846 time=340.43804 \n"
     ]
    },
    {
     "name": "stderr",
     "output_type": "stream",
     "text": [
      "100%|██████████| 6966/6966 [04:56<00:00, 23.51it/s]\n",
      "100%|██████████| 871/871 [00:14<00:00, 59.51it/s]\n",
      "100%|██████████| 871/871 [00:12<00:00, 68.10it/s]\n"
     ]
    },
    {
     "name": "stdout",
     "output_type": "stream",
     "text": [
      "epoch:008 train_loss=0.57706 train_acc=0.71923 val_acc=0.67045 test_acc=0.66743 time=323.77615 \n"
     ]
    },
    {
     "name": "stderr",
     "output_type": "stream",
     "text": [
      "100%|██████████| 6966/6966 [04:59<00:00, 23.30it/s]\n",
      "100%|██████████| 871/871 [00:14<00:00, 61.16it/s]\n",
      "100%|██████████| 871/871 [00:12<00:00, 67.76it/s]\n"
     ]
    },
    {
     "name": "stdout",
     "output_type": "stream",
     "text": [
      "epoch:009 train_loss=0.57698 train_acc=0.72004 val_acc=0.65279 test_acc=0.65437 time=326.12413 \n"
     ]
    },
    {
     "name": "stderr",
     "output_type": "stream",
     "text": [
      "100%|██████████| 6966/6966 [05:00<00:00, 23.15it/s]\n",
      "100%|██████████| 871/871 [00:14<00:00, 61.56it/s]\n",
      "100%|██████████| 871/871 [00:13<00:00, 64.19it/s]\n"
     ]
    },
    {
     "name": "stdout",
     "output_type": "stream",
     "text": [
      "epoch:010 train_loss=0.57712 train_acc=0.71885 val_acc=0.49882 test_acc=0.50004 time=328.65580 \n"
     ]
    },
    {
     "name": "stderr",
     "output_type": "stream",
     "text": [
      "100%|██████████| 6966/6966 [05:26<00:00, 21.32it/s]\n",
      "100%|██████████| 871/871 [00:15<00:00, 57.64it/s]\n",
      "100%|██████████| 871/871 [00:12<00:00, 67.70it/s]\n"
     ]
    },
    {
     "name": "stdout",
     "output_type": "stream",
     "text": [
      "epoch:011 train_loss=0.57471 train_acc=0.72098 val_acc=0.50111 test_acc=0.50312 time=354.75698 \n"
     ]
    },
    {
     "name": "stderr",
     "output_type": "stream",
     "text": [
      "100%|██████████| 6966/6966 [04:52<00:00, 23.78it/s]\n",
      "100%|██████████| 871/871 [00:16<00:00, 52.63it/s]\n",
      "100%|██████████| 871/871 [00:13<00:00, 65.21it/s]\n"
     ]
    },
    {
     "name": "stdout",
     "output_type": "stream",
     "text": [
      "epoch:012 train_loss=0.57398 train_acc=0.72260 val_acc=0.72012 test_acc=0.71366 time=322.90349 \n"
     ]
    },
    {
     "name": "stderr",
     "output_type": "stream",
     "text": [
      "100%|██████████| 6966/6966 [05:01<00:00, 23.07it/s]\n",
      "100%|██████████| 871/871 [00:16<00:00, 51.82it/s]\n",
      "100%|██████████| 871/871 [00:15<00:00, 56.11it/s]\n"
     ]
    },
    {
     "name": "stdout",
     "output_type": "stream",
     "text": [
      "epoch:013 train_loss=0.57331 train_acc=0.72415 val_acc=0.52990 test_acc=0.52918 time=334.31725 \n"
     ]
    },
    {
     "name": "stderr",
     "output_type": "stream",
     "text": [
      "100%|██████████| 6966/6966 [05:04<00:00, 22.89it/s]\n",
      "100%|██████████| 871/871 [00:13<00:00, 62.92it/s]\n",
      "100%|██████████| 871/871 [00:12<00:00, 67.35it/s]\n"
     ]
    },
    {
     "name": "stdout",
     "output_type": "stream",
     "text": [
      "epoch:014 train_loss=0.57279 train_acc=0.72409 val_acc=0.65860 test_acc=0.65250 time=331.11558 \n"
     ]
    },
    {
     "name": "stderr",
     "output_type": "stream",
     "text": [
      "100%|██████████| 6966/6966 [05:09<00:00, 22.53it/s]\n",
      "100%|██████████| 871/871 [00:13<00:00, 64.08it/s]\n",
      "100%|██████████| 871/871 [00:12<00:00, 67.10it/s]\n"
     ]
    },
    {
     "name": "stdout",
     "output_type": "stream",
     "text": [
      "epoch:015 train_loss=0.57351 train_acc=0.72379 val_acc=0.65846 test_acc=0.65566 time=335.80770 \n"
     ]
    },
    {
     "name": "stderr",
     "output_type": "stream",
     "text": [
      "100%|██████████| 6966/6966 [05:03<00:00, 22.94it/s]\n",
      "100%|██████████| 871/871 [00:15<00:00, 56.59it/s]\n",
      "100%|██████████| 871/871 [00:13<00:00, 62.65it/s]\n"
     ]
    },
    {
     "name": "stdout",
     "output_type": "stream",
     "text": [
      "epoch:016 train_loss=0.57289 train_acc=0.72361 val_acc=0.57849 test_acc=0.58029 time=332.97676 \n"
     ]
    },
    {
     "name": "stderr",
     "output_type": "stream",
     "text": [
      "100%|██████████| 6966/6966 [04:56<00:00, 23.49it/s]\n",
      "100%|██████████| 871/871 [00:14<00:00, 59.58it/s]\n",
      "100%|██████████| 871/871 [00:14<00:00, 61.69it/s]\n"
     ]
    },
    {
     "name": "stdout",
     "output_type": "stream",
     "text": [
      "epoch:017 train_loss=0.57238 train_acc=0.72470 val_acc=0.59637 test_acc=0.59364 time=325.33168 \n"
     ]
    },
    {
     "name": "stderr",
     "output_type": "stream",
     "text": [
      "100%|██████████| 6966/6966 [05:06<00:00, 22.73it/s]\n",
      "100%|██████████| 871/871 [00:14<00:00, 61.61it/s]\n",
      "100%|██████████| 871/871 [00:14<00:00, 60.73it/s]\n"
     ]
    },
    {
     "name": "stdout",
     "output_type": "stream",
     "text": [
      "epoch:018 train_loss=0.57258 train_acc=0.72361 val_acc=0.65903 test_acc=0.65135 time=335.00768 \n"
     ]
    },
    {
     "name": "stderr",
     "output_type": "stream",
     "text": [
      "100%|██████████| 6966/6966 [05:13<00:00, 22.21it/s]\n",
      "100%|██████████| 871/871 [00:15<00:00, 57.01it/s]\n",
      "100%|██████████| 871/871 [00:12<00:00, 67.58it/s]\n"
     ]
    },
    {
     "name": "stdout",
     "output_type": "stream",
     "text": [
      "epoch:019 train_loss=0.57212 train_acc=0.72478 val_acc=0.49896 test_acc=0.50047 time=341.79981 \n"
     ]
    },
    {
     "name": "stderr",
     "output_type": "stream",
     "text": [
      "100%|██████████| 6966/6966 [04:53<00:00, 23.70it/s]\n",
      "100%|██████████| 871/871 [00:15<00:00, 57.52it/s]\n",
      "100%|██████████| 871/871 [00:15<00:00, 54.90it/s]\n"
     ]
    },
    {
     "name": "stdout",
     "output_type": "stream",
     "text": [
      "epoch:020 train_loss=0.57170 train_acc=0.72542 val_acc=0.63635 test_acc=0.63262 time=324.95634 \n"
     ]
    },
    {
     "name": "stderr",
     "output_type": "stream",
     "text": [
      "100%|██████████| 6966/6966 [04:55<00:00, 23.57it/s]\n",
      "100%|██████████| 871/871 [00:13<00:00, 64.42it/s]\n",
      "100%|██████████| 871/871 [00:14<00:00, 59.68it/s]\n"
     ]
    },
    {
     "name": "stdout",
     "output_type": "stream",
     "text": [
      "epoch:021 train_loss=0.56978 train_acc=0.72811 val_acc=0.66298 test_acc=0.65911 time=323.71458 \n"
     ]
    },
    {
     "name": "stderr",
     "output_type": "stream",
     "text": [
      "100%|██████████| 6966/6966 [05:09<00:00, 22.52it/s]\n",
      "100%|██████████| 871/871 [00:14<00:00, 59.15it/s]\n",
      "100%|██████████| 871/871 [00:15<00:00, 56.37it/s]\n"
     ]
    },
    {
     "name": "stdout",
     "output_type": "stream",
     "text": [
      "epoch:022 train_loss=0.56917 train_acc=0.72908 val_acc=0.72192 test_acc=0.71689 time=339.45887 \n"
     ]
    },
    {
     "name": "stderr",
     "output_type": "stream",
     "text": [
      "100%|██████████| 6966/6966 [05:04<00:00, 22.88it/s]\n",
      "100%|██████████| 871/871 [00:15<00:00, 54.77it/s]\n",
      "100%|██████████| 871/871 [00:16<00:00, 53.73it/s]\n"
     ]
    },
    {
     "name": "stdout",
     "output_type": "stream",
     "text": [
      "epoch:023 train_loss=0.56871 train_acc=0.72909 val_acc=0.60599 test_acc=0.59622 time=336.60309 \n"
     ]
    },
    {
     "name": "stderr",
     "output_type": "stream",
     "text": [
      "100%|██████████| 6966/6966 [05:06<00:00, 22.75it/s]\n",
      "100%|██████████| 871/871 [00:14<00:00, 60.84it/s]\n",
      "100%|██████████| 871/871 [00:14<00:00, 60.43it/s]\n"
     ]
    },
    {
     "name": "stdout",
     "output_type": "stream",
     "text": [
      "epoch:024 train_loss=0.56845 train_acc=0.72868 val_acc=0.70038 test_acc=0.69098 time=334.89687 \n"
     ]
    },
    {
     "name": "stderr",
     "output_type": "stream",
     "text": [
      "100%|██████████| 6966/6966 [05:06<00:00, 22.73it/s]\n",
      "100%|██████████| 871/871 [00:14<00:00, 59.84it/s]\n",
      "100%|██████████| 871/871 [00:15<00:00, 55.48it/s]\n"
     ]
    },
    {
     "name": "stdout",
     "output_type": "stream",
     "text": [
      "epoch:025 train_loss=0.56870 train_acc=0.72880 val_acc=0.73254 test_acc=0.72615 time=336.67604 \n"
     ]
    },
    {
     "name": "stderr",
     "output_type": "stream",
     "text": [
      "100%|██████████| 6966/6966 [04:55<00:00, 23.56it/s]\n",
      "100%|██████████| 871/871 [00:14<00:00, 60.91it/s]\n",
      "100%|██████████| 871/871 [00:12<00:00, 67.31it/s]\n"
     ]
    },
    {
     "name": "stdout",
     "output_type": "stream",
     "text": [
      "epoch:026 train_loss=0.56832 train_acc=0.72901 val_acc=0.72701 test_acc=0.71825 time=322.87162 \n"
     ]
    },
    {
     "name": "stderr",
     "output_type": "stream",
     "text": [
      "100%|██████████| 6966/6966 [04:57<00:00, 23.42it/s]\n",
      "100%|██████████| 871/871 [00:16<00:00, 52.50it/s]\n",
      "100%|██████████| 871/871 [00:14<00:00, 60.59it/s]\n"
     ]
    },
    {
     "name": "stdout",
     "output_type": "stream",
     "text": [
      "epoch:027 train_loss=0.56785 train_acc=0.73005 val_acc=0.72586 test_acc=0.71998 time=328.41092 \n"
     ]
    },
    {
     "name": "stderr",
     "output_type": "stream",
     "text": [
      "100%|██████████| 6966/6966 [04:52<00:00, 23.83it/s]\n",
      "100%|██████████| 871/871 [00:13<00:00, 64.03it/s]\n",
      "100%|██████████| 871/871 [00:13<00:00, 64.95it/s]\n"
     ]
    },
    {
     "name": "stdout",
     "output_type": "stream",
     "text": [
      "epoch:028 train_loss=0.56820 train_acc=0.72956 val_acc=0.60261 test_acc=0.59874 time=319.35844 \n"
     ]
    },
    {
     "name": "stderr",
     "output_type": "stream",
     "text": [
      "100%|██████████| 6966/6966 [05:03<00:00, 22.96it/s]\n",
      "100%|██████████| 871/871 [00:15<00:00, 54.70it/s]\n",
      "100%|██████████| 871/871 [00:12<00:00, 68.27it/s]\n"
     ]
    },
    {
     "name": "stdout",
     "output_type": "stream",
     "text": [
      "epoch:029 train_loss=0.56819 train_acc=0.72906 val_acc=0.73168 test_acc=0.72615 time=332.05788 \n"
     ]
    },
    {
     "name": "stderr",
     "output_type": "stream",
     "text": [
      "100%|██████████| 6966/6966 [05:05<00:00, 22.81it/s]\n",
      "100%|██████████| 871/871 [00:16<00:00, 53.39it/s]\n",
      "100%|██████████| 871/871 [00:16<00:00, 52.66it/s]\n"
     ]
    },
    {
     "name": "stdout",
     "output_type": "stream",
     "text": [
      "epoch:030 train_loss=0.56742 train_acc=0.73035 val_acc=0.66083 test_acc=0.65753 time=338.20588 \n"
     ]
    },
    {
     "name": "stderr",
     "output_type": "stream",
     "text": [
      "100%|██████████| 6966/6966 [04:52<00:00, 23.78it/s]\n",
      "100%|██████████| 871/871 [00:14<00:00, 61.46it/s]\n",
      "100%|██████████| 871/871 [00:12<00:00, 67.96it/s]\n"
     ]
    },
    {
     "name": "stdout",
     "output_type": "stream",
     "text": [
      "epoch:031 train_loss=0.56603 train_acc=0.73189 val_acc=0.70289 test_acc=0.69421 time=319.97563 \n"
     ]
    },
    {
     "name": "stderr",
     "output_type": "stream",
     "text": [
      "100%|██████████| 6966/6966 [05:06<00:00, 22.70it/s]\n",
      "100%|██████████| 871/871 [00:16<00:00, 54.12it/s]\n",
      "100%|██████████| 871/871 [00:12<00:00, 67.49it/s]\n"
     ]
    },
    {
     "name": "stdout",
     "output_type": "stream",
     "text": [
      "epoch:032 train_loss=0.56577 train_acc=0.73187 val_acc=0.70749 test_acc=0.69772 time=335.90450 \n"
     ]
    },
    {
     "name": "stderr",
     "output_type": "stream",
     "text": [
      "100%|██████████| 6966/6966 [04:56<00:00, 23.53it/s]\n",
      "100%|██████████| 871/871 [00:14<00:00, 59.43it/s]\n",
      "100%|██████████| 871/871 [00:16<00:00, 53.01it/s]\n"
     ]
    },
    {
     "name": "stdout",
     "output_type": "stream",
     "text": [
      "epoch:033 train_loss=0.56553 train_acc=0.73229 val_acc=0.71825 test_acc=0.71100 time=327.19108 \n"
     ]
    },
    {
     "name": "stderr",
     "output_type": "stream",
     "text": [
      "100%|██████████| 6966/6966 [04:54<00:00, 23.63it/s]\n",
      "100%|██████████| 871/871 [00:13<00:00, 64.66it/s]\n",
      "100%|██████████| 871/871 [00:13<00:00, 63.81it/s]\n"
     ]
    },
    {
     "name": "stdout",
     "output_type": "stream",
     "text": [
      "epoch:034 train_loss=0.56573 train_acc=0.73192 val_acc=0.67676 test_acc=0.67691 time=321.87838 \n"
     ]
    },
    {
     "name": "stderr",
     "output_type": "stream",
     "text": [
      "100%|██████████| 6966/6966 [05:00<00:00, 23.17it/s]\n",
      "100%|██████████| 871/871 [00:16<00:00, 53.12it/s]\n",
      "100%|██████████| 871/871 [00:13<00:00, 65.52it/s]\n"
     ]
    },
    {
     "name": "stdout",
     "output_type": "stream",
     "text": [
      "epoch:035 train_loss=0.56591 train_acc=0.73231 val_acc=0.73426 test_acc=0.72823 time=330.28742 \n"
     ]
    },
    {
     "name": "stderr",
     "output_type": "stream",
     "text": [
      "100%|██████████| 6966/6966 [04:54<00:00, 23.62it/s]\n",
      "100%|██████████| 871/871 [00:15<00:00, 57.77it/s]\n",
      "100%|██████████| 871/871 [00:16<00:00, 52.98it/s]\n"
     ]
    },
    {
     "name": "stdout",
     "output_type": "stream",
     "text": [
      "epoch:036 train_loss=0.56564 train_acc=0.73239 val_acc=0.72443 test_acc=0.71524 time=326.39231 \n"
     ]
    },
    {
     "name": "stderr",
     "output_type": "stream",
     "text": [
      "100%|██████████| 6966/6966 [04:53<00:00, 23.72it/s]\n",
      "100%|██████████| 871/871 [00:16<00:00, 51.83it/s]\n",
      "100%|██████████| 871/871 [00:16<00:00, 52.53it/s]\n"
     ]
    },
    {
     "name": "stdout",
     "output_type": "stream",
     "text": [
      "epoch:037 train_loss=0.56522 train_acc=0.73376 val_acc=0.71567 test_acc=0.71036 time=327.02683 \n"
     ]
    },
    {
     "name": "stderr",
     "output_type": "stream",
     "text": [
      "100%|██████████| 6966/6966 [04:57<00:00, 23.45it/s]\n",
      "100%|██████████| 871/871 [00:15<00:00, 54.71it/s]\n",
      "100%|██████████| 871/871 [00:14<00:00, 60.18it/s]\n"
     ]
    },
    {
     "name": "stdout",
     "output_type": "stream",
     "text": [
      "epoch:038 train_loss=0.56499 train_acc=0.73434 val_acc=0.71567 test_acc=0.70907 time=327.43487 \n"
     ]
    },
    {
     "name": "stderr",
     "output_type": "stream",
     "text": [
      "100%|██████████| 6966/6966 [05:02<00:00, 23.05it/s]\n",
      "100%|██████████| 871/871 [00:16<00:00, 52.10it/s]\n",
      "100%|██████████| 871/871 [00:13<00:00, 65.41it/s]\n"
     ]
    },
    {
     "name": "stdout",
     "output_type": "stream",
     "text": [
      "epoch:039 train_loss=0.56520 train_acc=0.73297 val_acc=0.72292 test_acc=0.71581 time=332.31679 \n"
     ]
    },
    {
     "name": "stderr",
     "output_type": "stream",
     "text": [
      "100%|██████████| 6966/6966 [04:50<00:00, 23.96it/s]\n",
      "100%|██████████| 871/871 [00:13<00:00, 62.86it/s]\n",
      "100%|██████████| 871/871 [00:12<00:00, 67.76it/s]\n"
     ]
    },
    {
     "name": "stdout",
     "output_type": "stream",
     "text": [
      "epoch:040 train_loss=0.56512 train_acc=0.73315 val_acc=0.72773 test_acc=0.72177 time=317.40601 \n"
     ]
    },
    {
     "name": "stderr",
     "output_type": "stream",
     "text": [
      "100%|██████████| 6966/6966 [04:59<00:00, 23.27it/s]\n",
      "100%|██████████| 871/871 [00:14<00:00, 61.55it/s]\n",
      "100%|██████████| 871/871 [00:12<00:00, 68.26it/s]\n"
     ]
    },
    {
     "name": "stdout",
     "output_type": "stream",
     "text": [
      "epoch:041 train_loss=0.56401 train_acc=0.73393 val_acc=0.73814 test_acc=0.73139 time=326.23573 \n"
     ]
    },
    {
     "name": "stderr",
     "output_type": "stream",
     "text": [
      "100%|██████████| 6966/6966 [05:06<00:00, 22.69it/s]\n",
      "100%|██████████| 871/871 [00:16<00:00, 52.81it/s]\n",
      "100%|██████████| 871/871 [00:15<00:00, 56.60it/s]\n"
     ]
    },
    {
     "name": "stdout",
     "output_type": "stream",
     "text": [
      "epoch:042 train_loss=0.56432 train_acc=0.73359 val_acc=0.73699 test_acc=0.73053 time=338.83885 \n"
     ]
    },
    {
     "name": "stderr",
     "output_type": "stream",
     "text": [
      "100%|██████████| 6966/6966 [05:05<00:00, 22.84it/s]\n",
      "100%|██████████| 871/871 [00:13<00:00, 63.35it/s]\n",
      "100%|██████████| 871/871 [00:14<00:00, 61.47it/s]\n"
     ]
    },
    {
     "name": "stdout",
     "output_type": "stream",
     "text": [
      "epoch:043 train_loss=0.56393 train_acc=0.73395 val_acc=0.73232 test_acc=0.72816 time=332.96728 \n"
     ]
    },
    {
     "name": "stderr",
     "output_type": "stream",
     "text": [
      "100%|██████████| 6966/6966 [05:00<00:00, 23.14it/s]\n",
      "100%|██████████| 871/871 [00:13<00:00, 63.90it/s]\n",
      "100%|██████████| 871/871 [00:13<00:00, 66.07it/s]\n"
     ]
    },
    {
     "name": "stdout",
     "output_type": "stream",
     "text": [
      "epoch:044 train_loss=0.56419 train_acc=0.73425 val_acc=0.68753 test_acc=0.68301 time=327.79741 \n"
     ]
    },
    {
     "name": "stderr",
     "output_type": "stream",
     "text": [
      "100%|██████████| 6966/6966 [05:12<00:00, 22.26it/s]\n",
      "100%|██████████| 871/871 [00:13<00:00, 63.50it/s]\n",
      "100%|██████████| 871/871 [00:15<00:00, 56.29it/s]\n"
     ]
    },
    {
     "name": "stdout",
     "output_type": "stream",
     "text": [
      "epoch:045 train_loss=0.56379 train_acc=0.73412 val_acc=0.71825 test_acc=0.71388 time=342.19829 \n"
     ]
    },
    {
     "name": "stderr",
     "output_type": "stream",
     "text": [
      "100%|██████████| 6966/6966 [05:00<00:00, 23.17it/s]\n",
      "100%|██████████| 871/871 [00:13<00:00, 62.80it/s]\n",
      "100%|██████████| 871/871 [00:13<00:00, 66.46it/s]\n"
     ]
    },
    {
     "name": "stdout",
     "output_type": "stream",
     "text": [
      "epoch:046 train_loss=0.56408 train_acc=0.73429 val_acc=0.69327 test_acc=0.68811 time=327.63903 \n"
     ]
    },
    {
     "name": "stderr",
     "output_type": "stream",
     "text": [
      "100%|██████████| 6966/6966 [05:02<00:00, 22.99it/s]\n",
      "100%|██████████| 871/871 [00:16<00:00, 54.43it/s]\n",
      "100%|██████████| 871/871 [00:12<00:00, 67.90it/s]\n"
     ]
    },
    {
     "name": "stdout",
     "output_type": "stream",
     "text": [
      "epoch:047 train_loss=0.56346 train_acc=0.73536 val_acc=0.71847 test_acc=0.71388 time=331.82744 \n"
     ]
    },
    {
     "name": "stderr",
     "output_type": "stream",
     "text": [
      "100%|██████████| 6966/6966 [05:00<00:00, 23.16it/s]\n",
      "100%|██████████| 871/871 [00:14<00:00, 59.78it/s]\n",
      "100%|██████████| 871/871 [00:14<00:00, 59.21it/s]\n"
     ]
    },
    {
     "name": "stdout",
     "output_type": "stream",
     "text": [
      "epoch:048 train_loss=0.56366 train_acc=0.73486 val_acc=0.73455 test_acc=0.72931 time=330.02696 \n"
     ]
    },
    {
     "name": "stderr",
     "output_type": "stream",
     "text": [
      "100%|██████████| 6966/6966 [05:02<00:00, 23.04it/s]\n",
      "100%|██████████| 871/871 [00:13<00:00, 65.07it/s]\n",
      "100%|██████████| 871/871 [00:13<00:00, 65.45it/s]\n"
     ]
    },
    {
     "name": "stdout",
     "output_type": "stream",
     "text": [
      "epoch:049 train_loss=0.56388 train_acc=0.73388 val_acc=0.73555 test_acc=0.73017 time=328.98708 \n"
     ]
    },
    {
     "name": "stderr",
     "output_type": "stream",
     "text": [
      "100%|██████████| 6966/6966 [05:01<00:00, 23.08it/s]\n",
      "100%|██████████| 871/871 [00:18<00:00, 45.99it/s]\n",
      "100%|██████████| 871/871 [00:19<00:00, 45.61it/s]\n"
     ]
    },
    {
     "name": "stdout",
     "output_type": "stream",
     "text": [
      "epoch:050 train_loss=0.56348 train_acc=0.73471 val_acc=0.72026 test_acc=0.71481 time=339.90290 \n"
     ]
    },
    {
     "name": "stderr",
     "output_type": "stream",
     "text": [
      "100%|██████████| 6966/6966 [05:04<00:00, 22.87it/s]\n",
      "100%|██████████| 871/871 [00:14<00:00, 59.37it/s]\n",
      "100%|██████████| 871/871 [00:14<00:00, 59.01it/s]\n"
     ]
    },
    {
     "name": "stdout",
     "output_type": "stream",
     "text": [
      "epoch:051 train_loss=0.56313 train_acc=0.73545 val_acc=0.73713 test_acc=0.73225 time=334.01418 \n"
     ]
    },
    {
     "name": "stderr",
     "output_type": "stream",
     "text": [
      "  7%|▋         | 489/6966 [00:20<04:41, 23.01it/s]"
     ]
    }
   ],
   "source": [
    "\n",
    "\n",
    "for epoch in range(100):\n",
    "    start = time.time()\n",
    "    # Train for one epoch\n",
    "    model.train()\n",
    "    train_loss = AverageMeter()\n",
    "    train_acc = AverageMeter()\n",
    "    step = 0\n",
    "    for data in tqdm(train_loader):\n",
    "        output, loss = train(data)\n",
    "        train_loss.update(loss.item(), output.size(0))\n",
    "        train_acc.update(accuracy(output, data.y), output.size(0))\n",
    "\n",
    "    # Evaluate on validation set\n",
    "    model.eval()\n",
    "    val_loss = AverageMeter()\n",
    "    val_acc = AverageMeter()\n",
    "    for data in tqdm(val_loader):\n",
    "        output, loss = test(data)\n",
    "        val_loss.update(loss.item(), output.size(0))\n",
    "        val_acc.update(accuracy(output, data.y), output.size(0))\n",
    "\n",
    "    # Evaluate on test set\n",
    "    test_loss = AverageMeter()\n",
    "    test_acc = AverageMeter()\n",
    "    for data in tqdm(test_loader):\n",
    "        output, loss = test(data)\n",
    "        test_loss.update(loss.item(), output.size(0))\n",
    "        test_acc.update(accuracy(output, data.y), output.size(0))\n",
    "\n",
    "    print(\"epoch:\" + '%03d ' % (epoch + 1) + \"train_loss=\" + \"{:.5f} \".format(train_loss.avg) + \"train_acc=\" + \"{:.5f} \".format(train_acc.avg) +\n",
    "          \"val_acc=\" + \"{:.5f} \".format(val_acc.avg) + \"test_acc=\" + \"{:.5f} \".format(test_acc.avg) + \"time=\" + \"{:.5f} \".format(time.time() - start))\n",
    "\n",
    "    scheduler.step()\n",
    "\n",
    "    # log the results tom tensorboard\n",
    "    writer.add_scalar('train_loss', train_loss.avg, epoch)\n",
    "    writer.add_scalar('train_acc', train_acc.avg, epoch)\n",
    "    writer.add_scalar('val_loss', val_loss.avg, epoch)\n",
    "    writer.add_scalar('val_acc', val_acc.avg, epoch)\n",
    "    writer.add_scalar('test_loss', test_loss.avg, epoch)\n",
    "    writer.add_scalar('test_acc', test_acc.avg, epoch)\n"
   ]
  }
 ],
 "metadata": {
  "kernelspec": {
   "display_name": "torch_pip",
   "language": "python",
   "name": "python3"
  },
  "language_info": {
   "codemirror_mode": {
    "name": "ipython",
    "version": 3
   },
   "file_extension": ".py",
   "mimetype": "text/x-python",
   "name": "python",
   "nbconvert_exporter": "python",
   "pygments_lexer": "ipython3",
   "version": "3.7.3"
  },
  "orig_nbformat": 4
 },
 "nbformat": 4,
 "nbformat_minor": 2
}
